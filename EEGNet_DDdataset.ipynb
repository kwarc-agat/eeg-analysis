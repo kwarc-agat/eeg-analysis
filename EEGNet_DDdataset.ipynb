{
  "nbformat": 4,
  "nbformat_minor": 0,
  "metadata": {
    "accelerator": "GPU",
    "colab": {
      "name": "EEGNet_DDdataset.ipynb",
      "provenance": [],
      "collapsed_sections": [],
      "mount_file_id": "1E2P9gMLMkJd9gkJbkhIb5k2IRBp5fPnJ",
      "authorship_tag": "ABX9TyOGF76WO08WKLAzW/LKVEfe"
    },
    "kernelspec": {
      "display_name": "Python 3",
      "name": "python3"
    },
    "language_info": {
      "name": "python"
    }
  },
  "cells": [
    {
      "cell_type": "markdown",
      "source": [
        "Configure Google Colab env"
      ],
      "metadata": {
        "id": "waRaj_GaIdKD"
      }
    },
    {
      "cell_type": "code",
      "metadata": {
        "id": "aIXMWZlsk3Iu"
      },
      "source": [
        "!pip install mne"
      ],
      "execution_count": null,
      "outputs": []
    },
    {
      "cell_type": "code",
      "metadata": {
        "id": "tlM9PyJblG0K"
      },
      "source": [
        "%cd drive/MyDrive/Datasets/Iteration_1/\n",
        "% ls"
      ],
      "execution_count": null,
      "outputs": []
    },
    {
      "cell_type": "code",
      "metadata": {
        "id": "E58FPordDmOy"
      },
      "source": [
        "from google.colab import files\n",
        "files.upload()"
      ],
      "execution_count": null,
      "outputs": []
    },
    {
      "cell_type": "code",
      "metadata": {
        "id": "cDkuY82Dk-a7"
      },
      "source": [
        "import numpy as np\n",
        "import mne\n",
        "import pandas as pd\n",
        "import os\n",
        "import csv\n",
        "from math import floor, ceil\n",
        "import pickle\n",
        "\n",
        "from tensorflow.keras import utils as np_utils\n",
        "from sklearn.metrics import confusion_matrix\n",
        "from sklearn.utils import shuffle\n",
        "from sklearn.preprocessing import StandardScaler, MinMaxScaler\n",
        "\n",
        "# EEGNet-specific imports\n",
        "from EEGModels_test import EEGNet\n",
        "from tensorflow.keras import utils as np_utils\n",
        "from tensorflow.keras.callbacks import ModelCheckpoint\n",
        "from tensorflow.keras import backend as K\n",
        "from tensorflow.keras.optimizers import Adam\n",
        "\n",
        "# tools for plotting confusion matrices\n",
        "from matplotlib import pyplot as plt\n",
        "import seaborn as sns \n",
        "\n",
        "K.set_image_data_format('channels_last')"
      ],
      "execution_count": 4,
      "outputs": []
    },
    {
      "cell_type": "markdown",
      "metadata": {
        "id": "G_kmsINrfQJA"
      },
      "source": [
        "# Load and process data"
      ]
    },
    {
      "cell_type": "code",
      "metadata": {
        "id": "VDM1pRfM_QDE"
      },
      "source": [
        "# constants for processing\n",
        "\n",
        "eeg_epochs_set_dir_name = \"Epochs_set_fdt\"\n",
        "eeg_epochs_set_dir = os.path.join(os.getcwd(), eeg_epochs_set_dir_name)\n",
        "filenames_eeg_set = [f for f in os.listdir(eeg_epochs_set_dir) if f.endswith('.set')]\n",
        "\n",
        "eeg_epochs_csv_dir_name = \"EEG_epochs_csv\"\n",
        "eeg_epochs_csv_dir = os.path.join(os.getcwd(), eeg_epochs_csv_dir_name)\n",
        "\n",
        "kernels, chans, samples = 1, 30, 1500"
      ],
      "execution_count": 7,
      "outputs": []
    },
    {
      "cell_type": "code",
      "metadata": {
        "id": "EflKnXq9fdqY"
      },
      "source": [
        "% cd Epochs_set_fdt"
      ],
      "execution_count": null,
      "outputs": []
    },
    {
      "cell_type": "code",
      "metadata": {
        "id": "BUutYYrP_kw8"
      },
      "source": [
        "# load all EEG epochs data, as X input for EEGNet\n",
        "\n",
        "X_list = []\n",
        "for f in filenames_eeg_set:\n",
        "  \n",
        "  file_epochs = mne.io.read_epochs_eeglab(f, verbose=0)\n",
        "  X_list.append(file_epochs.get_data()*1000)\n",
        "  \n",
        "X = np.vstack(X_list)\n",
        "X_list = []\n",
        "\n",
        "print(f\"Input shape: {X.shape}\")"
      ],
      "execution_count": null,
      "outputs": []
    },
    {
      "cell_type": "code",
      "metadata": {
        "colab": {
          "base_uri": "https://localhost:8080/"
        },
        "id": "BcW8VxvZTlbt",
        "outputId": "3e4b519c-afd9-4e21-86e2-4786635cba9e"
      },
      "source": [
        "%cd .."
      ],
      "execution_count": 11,
      "outputs": [
        {
          "output_type": "stream",
          "name": "stdout",
          "text": [
            "/content/drive/MyDrive/Datasets/Iteration_1\n",
            "\u001b[0m\u001b[01;34mEEG_epochs_csv\u001b[0m/     labels_median.csv              X_validate_4442_median.pkl\n",
            "EEGModels.py        \u001b[01;34m__pycache__\u001b[0m/                   Y_test_4442_median.pkl\n",
            "EEGModels_test.py   X_1582_2classes_epochs_id.pkl  Y_train_4442_median.pkl\n",
            "\u001b[01;34mEpochs_set_fdt\u001b[0m/     X_1582_2classes.pkl            Y_validate_4442_median.pkl\n",
            "\u001b[01;34mEvents\u001b[0m/             X_test_4442_median.pkl\n",
            "labels_by_time.csv  X_train_4442_median.pkl\n"
          ]
        }
      ]
    },
    {
      "cell_type": "code",
      "metadata": {
        "colab": {
          "base_uri": "https://localhost:8080/"
        },
        "id": "6vMbsro_DU8c",
        "outputId": "7194db1f-f2d7-4d54-9988-a2bfcbf202d4"
      },
      "source": [
        "# load labels as y input for EEGNet\n",
        "\n",
        "y = pd.read_csv(\"labels_by_time.csv\")\n",
        "y['label'] = y['label'].fillna(\"other\")\n",
        "labels_mapping = {\"attentive\": 0, \"inattentive\": 1, \"other\": 2}\n",
        "y = y.replace({\"label\": labels_mapping})\n",
        "y.rename(columns={'Unnamed: 0': 'orig_idx'}, inplace=True)\n",
        "y_attentive = y[y['label']==0]\n",
        "y_inattentive = y[y['label']==1]\n",
        "y_attentive = y_attentive.sample(n=791, random_state=0)\n",
        "y = pd.concat([y_attentive, y_inattentive])\n",
        "y = y.sort_values(by='orig_idx')\n",
        "\n",
        "print(y)\n",
        "print(y['label'].value_counts())"
      ],
      "execution_count": 12,
      "outputs": [
        {
          "output_type": "stream",
          "name": "stdout",
          "text": [
            "      orig_idx  time_between  label\n",
            "8            8         3.524      1\n",
            "12          12         5.684      1\n",
            "15          15         4.380      1\n",
            "17          17         4.316      1\n",
            "18          18         6.468      1\n",
            "...        ...           ...    ...\n",
            "4431      4431         0.652      0\n",
            "4434      4434         0.536      0\n",
            "4436      4436         0.068      0\n",
            "4437      4437         0.700      0\n",
            "4439      4439         0.620      0\n",
            "\n",
            "[1582 rows x 3 columns]\n",
            "1    791\n",
            "0    791\n",
            "Name: label, dtype: int64\n"
          ]
        }
      ]
    },
    {
      "cell_type": "code",
      "metadata": {
        "colab": {
          "base_uri": "https://localhost:8080/"
        },
        "id": "KaWtyDU9QxZZ",
        "outputId": "a6c86c02-919b-4999-fe9c-6864a2271d17"
      },
      "source": [
        "# convert labels to array and get their index from original dataset\n",
        "\n",
        "not_null_index = y['orig_idx'].to_numpy()\n",
        "y = y['label'].to_numpy()\n",
        "unique, counts = np.unique(y, return_counts=True)\n",
        "\n",
        "print(y)\n",
        "\n",
        "print(np.asarray((unique, counts)).T)"
      ],
      "execution_count": 13,
      "outputs": [
        {
          "output_type": "stream",
          "name": "stdout",
          "text": [
            "[1 1 1 ... 0 0 0]\n",
            "[   8   12   15 ... 4436 4437 4439]\n"
          ]
        }
      ]
    },
    {
      "cell_type": "code",
      "metadata": {
        "colab": {
          "base_uri": "https://localhost:8080/"
        },
        "id": "DCa_yjYQlUBM",
        "outputId": "a0603ad3-ebe3-4d18-d602-172b3faa7da0"
      },
      "source": [
        "# extract samples from original dataset based on index\n",
        "X_copy_list = []\n",
        "\n",
        "for i in range(X.shape[0]):\n",
        "  if i in not_null_index:\n",
        "    X_copy_list.append(X[i])\n",
        "\n",
        "print(len(X_copy_list))\n",
        "print(X_copy_list[0].shape)\n",
        "\n",
        "X_copy = np.stack(X_copy_list, axis=0)\n",
        "X_copy_list = []\n",
        "X_copy.shape"
      ],
      "execution_count": 15,
      "outputs": [
        {
          "output_type": "stream",
          "name": "stdout",
          "text": [
            "1582\n",
            "(30, 1500)\n"
          ]
        },
        {
          "output_type": "execute_result",
          "data": {
            "text/plain": [
              "(1582, 30, 1500)"
            ]
          },
          "metadata": {},
          "execution_count": 15
        }
      ]
    },
    {
      "cell_type": "code",
      "metadata": {
        "colab": {
          "base_uri": "https://localhost:8080/"
        },
        "id": "G15eUWVmICk4",
        "outputId": "e46d9a42-74c3-4f9f-b975-c50bbc965060"
      },
      "source": [
        "# extract subsets\n",
        "train_subset_idx = ceil(X_copy.shape[0]*0.8)\n",
        "valid_subset_idx = train_subset_idx + ceil(X_copy.shape[0]*0.1)\n",
        "\n",
        "X_train      = X_copy[0:train_subset_idx]\n",
        "Y_train      = y[0:train_subset_idx]\n",
        "X_validate   = X_copy[train_subset_idx:valid_subset_idx]\n",
        "Y_validate   = y[train_subset_idx:valid_subset_idx]\n",
        "X_test       = X_copy[valid_subset_idx:]\n",
        "Y_test       = y[valid_subset_idx:]\n",
        "\n",
        "# convert labels to one-hot encodings.\n",
        "Y_train      = np_utils.to_categorical(Y_train, num_classes=2)\n",
        "Y_validate   = np_utils.to_categorical(Y_validate, num_classes=2)\n",
        "Y_test       = np_utils.to_categorical(Y_test, num_classes=2)\n",
        "\n",
        "# convert data to NHWC (trials, channels, samples, kernels) format\n",
        "X_train      = X_train.reshape(X_train.shape[0], chans, samples, kernels)\n",
        "X_validate   = X_validate.reshape(X_validate.shape[0], chans, samples, kernels)\n",
        "X_test       = X_test.reshape(X_test.shape[0], chans, samples, kernels)\n",
        "   \n",
        "print('X_train shape:', X_train.shape)\n",
        "print(X_train.shape[0], 'train samples')\n",
        "print(X_validate.shape[0], 'validate samples')\n",
        "print(X_test.shape[0], 'test samples')\n",
        "\n",
        "print('Y_train shape:', Y_train.shape)"
      ],
      "execution_count": 17,
      "outputs": [
        {
          "output_type": "stream",
          "name": "stdout",
          "text": [
            "X_train shape: (1266, 30, 1500, 1)\n",
            "1266 train samples\n",
            "159 validate samples\n",
            "157 test samples\n",
            "Y_train shape: (1266, 2)\n"
          ]
        }
      ]
    },
    {
      "cell_type": "code",
      "source": [
        "# load subsets prepared previously for this experiment\n",
        "# X_train = pickle.load(open(\"X_train_1266.pkl\", \"rb\"))\n",
        "# Y_train = pickle.load(open(\"Y_train_1266.pkl\", \"rb\"))\n",
        "# X_validate = pickle.load(open(\"X_validate_159.pkl\", \"rb\"))\n",
        "# Y_validate = pickle.load(open(\"Y_validate_159.pkl\", \"rb\"))\n",
        "# X_test = pickle.load(open(\"X_test_157.pkl\", \"rb\"))\n",
        "# Y_test = pickle.load(open(\"Y_test_157.pkl\", \"rb\"))\n",
        "\n",
        "# print('X_train shape:', X_train.shape)\n",
        "# print('Y_train shape:', Y_train.shape)\n",
        "# print('X_validate shape:', X_validate.shape)\n",
        "# print('Y_validate shape:', Y_validate.shape)\n",
        "# print('X_test shape:', X_test.shape)\n",
        "# print('Y_test shape:', Y_test.shape)"
      ],
      "metadata": {
        "id": "fNZoAU2dLcp_"
      },
      "execution_count": null,
      "outputs": []
    },
    {
      "cell_type": "markdown",
      "source": [
        "## Model training"
      ],
      "metadata": {
        "id": "Szo5SdhhKNbt"
      }
    },
    {
      "cell_type": "code",
      "metadata": {
        "id": "LCTgI8M7NTPL",
        "colab": {
          "base_uri": "https://localhost:8080/"
        },
        "outputId": "bd55d0d3-3a2d-4aae-a445-6065c6bdecfa"
      },
      "source": [
        "# initialize model\n",
        "\n",
        "model = EEGNet(nb_classes = 2, Chans = chans, Samples = samples, \n",
        "               dropoutRate = 0.5, kernLength = 32, F1 = 32, D = 4, F2 = 32, \n",
        "               dropoutType = 'Dropout')\n",
        "model.summary()"
      ],
      "execution_count": 23,
      "outputs": [
        {
          "output_type": "stream",
          "name": "stdout",
          "text": [
            "Model: \"model_1\"\n",
            "_________________________________________________________________\n",
            " Layer (type)                Output Shape              Param #   \n",
            "=================================================================\n",
            " input_2 (InputLayer)        [(None, 30, 1500, 1)]     0         \n",
            "                                                                 \n",
            " conv2d_1 (Conv2D)           (None, 30, 1500, 32)      1024      \n",
            "                                                                 \n",
            " batch_normalization_3 (Batc  (None, 30, 1500, 32)     128       \n",
            " hNormalization)                                                 \n",
            "                                                                 \n",
            " depthwise_conv2d_1 (Depthwi  (None, 1, 1500, 128)     3840      \n",
            " seConv2D)                                                       \n",
            "                                                                 \n",
            " batch_normalization_4 (Batc  (None, 1, 1500, 128)     512       \n",
            " hNormalization)                                                 \n",
            "                                                                 \n",
            " activation_2 (Activation)   (None, 1, 1500, 128)      0         \n",
            "                                                                 \n",
            " average_pooling2d_2 (Averag  (None, 1, 93, 128)       0         \n",
            " ePooling2D)                                                     \n",
            "                                                                 \n",
            " dropout_2 (Dropout)         (None, 1, 93, 128)        0         \n",
            "                                                                 \n",
            " separable_conv2d_1 (Separab  (None, 1, 93, 32)        6144      \n",
            " leConv2D)                                                       \n",
            "                                                                 \n",
            " batch_normalization_5 (Batc  (None, 1, 93, 32)        128       \n",
            " hNormalization)                                                 \n",
            "                                                                 \n",
            " activation_3 (Activation)   (None, 1, 93, 32)         0         \n",
            "                                                                 \n",
            " average_pooling2d_3 (Averag  (None, 1, 11, 32)        0         \n",
            " ePooling2D)                                                     \n",
            "                                                                 \n",
            " dropout_3 (Dropout)         (None, 1, 11, 32)         0         \n",
            "                                                                 \n",
            " flatten (Flatten)           (None, 352)               0         \n",
            "                                                                 \n",
            " dense (Dense)               (None, 2)                 706       \n",
            "                                                                 \n",
            " sigmoid (Activation)        (None, 2)                 0         \n",
            "                                                                 \n",
            "=================================================================\n",
            "Total params: 12,482\n",
            "Trainable params: 12,098\n",
            "Non-trainable params: 384\n",
            "_________________________________________________________________\n"
          ]
        }
      ]
    },
    {
      "cell_type": "code",
      "metadata": {
        "id": "C84Xofc0Sztb"
      },
      "source": [
        "# model compilation and checkpointer\n",
        "adam = Adam(learning_rate=0.0001)\n",
        "\n",
        "model.compile(loss='categorical_crossentropy', optimizer=adam, \n",
        "              metrics = ['accuracy'])\n",
        "\n",
        "checkpointer = ModelCheckpoint(filepath='/tmp/checkpoint.h5', verbose=1,\n",
        "                               save_best_only=True)\n",
        "class_weights = {0:1, 1:1}"
      ],
      "execution_count": 21,
      "outputs": []
    },
    {
      "cell_type": "code",
      "metadata": {
        "colab": {
          "base_uri": "https://localhost:8080/"
        },
        "id": "6M8cxp-kdi1V",
        "outputId": "a9ab2849-3e2f-4e7a-c872-ac0618023158"
      },
      "source": [
        "# training\n",
        "fittedModel = model.fit(X_train, Y_train, batch_size = 32, epochs = 60, validation_data=(X_validate, Y_validate),\n",
        "                        callbacks=[checkpointer],verbose = 2, class_weight = class_weights)"
      ],
      "execution_count": 22,
      "outputs": [
        {
          "output_type": "stream",
          "name": "stdout",
          "text": [
            "Epoch 1/60\n",
            "\n",
            "Epoch 00001: val_loss improved from inf to 0.69341, saving model to /tmp/checkpoint.h5\n",
            "40/40 - 16s - loss: 0.7029 - accuracy: 0.5118 - val_loss: 0.6934 - val_accuracy: 0.0126 - 16s/epoch - 393ms/step\n",
            "Epoch 2/60\n",
            "\n",
            "Epoch 00002: val_loss did not improve from 0.69341\n",
            "40/40 - 3s - loss: 0.6765 - accuracy: 0.5987 - val_loss: 0.6972 - val_accuracy: 0.0126 - 3s/epoch - 87ms/step\n",
            "Epoch 3/60\n",
            "\n",
            "Epoch 00003: val_loss did not improve from 0.69341\n",
            "40/40 - 3s - loss: 0.6645 - accuracy: 0.6675 - val_loss: 0.7054 - val_accuracy: 0.0126 - 3s/epoch - 87ms/step\n",
            "Epoch 4/60\n",
            "\n",
            "Epoch 00004: val_loss did not improve from 0.69341\n",
            "40/40 - 3s - loss: 0.6446 - accuracy: 0.6904 - val_loss: 0.7205 - val_accuracy: 0.0126 - 3s/epoch - 86ms/step\n",
            "Epoch 5/60\n",
            "\n",
            "Epoch 00005: val_loss did not improve from 0.69341\n",
            "40/40 - 3s - loss: 0.6183 - accuracy: 0.7188 - val_loss: 0.7477 - val_accuracy: 0.0126 - 3s/epoch - 87ms/step\n",
            "Epoch 6/60\n",
            "\n",
            "Epoch 00006: val_loss did not improve from 0.69341\n",
            "40/40 - 3s - loss: 0.5980 - accuracy: 0.7322 - val_loss: 0.7899 - val_accuracy: 0.0126 - 3s/epoch - 87ms/step\n",
            "Epoch 7/60\n",
            "\n",
            "Epoch 00007: val_loss did not improve from 0.69341\n",
            "40/40 - 3s - loss: 0.5744 - accuracy: 0.7330 - val_loss: 0.8468 - val_accuracy: 0.0126 - 3s/epoch - 87ms/step\n",
            "Epoch 8/60\n",
            "\n",
            "Epoch 00008: val_loss did not improve from 0.69341\n",
            "40/40 - 3s - loss: 0.5728 - accuracy: 0.7330 - val_loss: 0.9072 - val_accuracy: 0.0126 - 3s/epoch - 87ms/step\n",
            "Epoch 9/60\n",
            "\n",
            "Epoch 00009: val_loss did not improve from 0.69341\n",
            "40/40 - 3s - loss: 0.5618 - accuracy: 0.7378 - val_loss: 0.9714 - val_accuracy: 0.0126 - 3s/epoch - 86ms/step\n",
            "Epoch 10/60\n",
            "\n",
            "Epoch 00010: val_loss did not improve from 0.69341\n",
            "40/40 - 4s - loss: 0.5546 - accuracy: 0.7472 - val_loss: 1.0341 - val_accuracy: 0.0126 - 4s/epoch - 88ms/step\n",
            "Epoch 11/60\n",
            "\n",
            "Epoch 00011: val_loss did not improve from 0.69341\n",
            "40/40 - 3s - loss: 0.5489 - accuracy: 0.7536 - val_loss: 1.0815 - val_accuracy: 0.0126 - 3s/epoch - 87ms/step\n",
            "Epoch 12/60\n",
            "\n",
            "Epoch 00012: val_loss did not improve from 0.69341\n",
            "40/40 - 3s - loss: 0.5360 - accuracy: 0.7567 - val_loss: 1.1248 - val_accuracy: 0.0126 - 3s/epoch - 87ms/step\n",
            "Epoch 13/60\n",
            "\n",
            "Epoch 00013: val_loss did not improve from 0.69341\n",
            "40/40 - 4s - loss: 0.5426 - accuracy: 0.7528 - val_loss: 1.1192 - val_accuracy: 0.0126 - 4s/epoch - 88ms/step\n",
            "Epoch 14/60\n",
            "\n",
            "Epoch 00014: val_loss did not improve from 0.69341\n",
            "40/40 - 3s - loss: 0.5363 - accuracy: 0.7551 - val_loss: 1.0755 - val_accuracy: 0.0126 - 3s/epoch - 87ms/step\n",
            "Epoch 15/60\n",
            "\n",
            "Epoch 00015: val_loss did not improve from 0.69341\n",
            "40/40 - 4s - loss: 0.5336 - accuracy: 0.7583 - val_loss: 0.9833 - val_accuracy: 0.0440 - 4s/epoch - 88ms/step\n",
            "Epoch 16/60\n",
            "\n",
            "Epoch 00016: val_loss did not improve from 0.69341\n",
            "40/40 - 4s - loss: 0.5272 - accuracy: 0.7630 - val_loss: 0.8320 - val_accuracy: 0.2075 - 4s/epoch - 88ms/step\n",
            "Epoch 17/60\n",
            "\n",
            "Epoch 00017: val_loss improved from 0.69341 to 0.69021, saving model to /tmp/checkpoint.h5\n",
            "40/40 - 4s - loss: 0.5188 - accuracy: 0.7678 - val_loss: 0.6902 - val_accuracy: 0.5346 - 4s/epoch - 89ms/step\n",
            "Epoch 18/60\n",
            "\n",
            "Epoch 00018: val_loss improved from 0.69021 to 0.59516, saving model to /tmp/checkpoint.h5\n",
            "40/40 - 4s - loss: 0.5153 - accuracy: 0.7662 - val_loss: 0.5952 - val_accuracy: 0.6981 - 4s/epoch - 89ms/step\n",
            "Epoch 19/60\n",
            "\n",
            "Epoch 00019: val_loss improved from 0.59516 to 0.50615, saving model to /tmp/checkpoint.h5\n",
            "40/40 - 4s - loss: 0.5177 - accuracy: 0.7749 - val_loss: 0.5061 - val_accuracy: 0.7987 - 4s/epoch - 89ms/step\n",
            "Epoch 20/60\n",
            "\n",
            "Epoch 00020: val_loss improved from 0.50615 to 0.43755, saving model to /tmp/checkpoint.h5\n",
            "40/40 - 4s - loss: 0.5092 - accuracy: 0.7733 - val_loss: 0.4376 - val_accuracy: 0.8679 - 4s/epoch - 90ms/step\n",
            "Epoch 21/60\n",
            "\n",
            "Epoch 00021: val_loss improved from 0.43755 to 0.38477, saving model to /tmp/checkpoint.h5\n",
            "40/40 - 4s - loss: 0.5039 - accuracy: 0.7859 - val_loss: 0.3848 - val_accuracy: 0.8931 - 4s/epoch - 90ms/step\n",
            "Epoch 22/60\n",
            "\n",
            "Epoch 00022: val_loss improved from 0.38477 to 0.36761, saving model to /tmp/checkpoint.h5\n",
            "40/40 - 4s - loss: 0.5114 - accuracy: 0.7654 - val_loss: 0.3676 - val_accuracy: 0.8931 - 4s/epoch - 89ms/step\n",
            "Epoch 23/60\n",
            "\n",
            "Epoch 00023: val_loss improved from 0.36761 to 0.33047, saving model to /tmp/checkpoint.h5\n",
            "40/40 - 4s - loss: 0.5044 - accuracy: 0.7796 - val_loss: 0.3305 - val_accuracy: 0.9245 - 4s/epoch - 89ms/step\n",
            "Epoch 24/60\n",
            "\n",
            "Epoch 00024: val_loss improved from 0.33047 to 0.30751, saving model to /tmp/checkpoint.h5\n",
            "40/40 - 4s - loss: 0.4952 - accuracy: 0.7899 - val_loss: 0.3075 - val_accuracy: 0.9434 - 4s/epoch - 90ms/step\n",
            "Epoch 25/60\n",
            "\n",
            "Epoch 00025: val_loss improved from 0.30751 to 0.30324, saving model to /tmp/checkpoint.h5\n",
            "40/40 - 4s - loss: 0.4981 - accuracy: 0.7907 - val_loss: 0.3032 - val_accuracy: 0.9434 - 4s/epoch - 96ms/step\n",
            "Epoch 26/60\n",
            "\n",
            "Epoch 00026: val_loss did not improve from 0.30324\n",
            "40/40 - 3s - loss: 0.5030 - accuracy: 0.7686 - val_loss: 0.3293 - val_accuracy: 0.9245 - 3s/epoch - 86ms/step\n",
            "Epoch 27/60\n",
            "\n",
            "Epoch 00027: val_loss did not improve from 0.30324\n",
            "40/40 - 3s - loss: 0.4965 - accuracy: 0.7875 - val_loss: 0.3040 - val_accuracy: 0.9434 - 3s/epoch - 85ms/step\n",
            "Epoch 28/60\n",
            "\n",
            "Epoch 00028: val_loss improved from 0.30324 to 0.29395, saving model to /tmp/checkpoint.h5\n",
            "40/40 - 3s - loss: 0.4990 - accuracy: 0.7844 - val_loss: 0.2940 - val_accuracy: 0.9434 - 3s/epoch - 87ms/step\n",
            "Epoch 29/60\n",
            "\n",
            "Epoch 00029: val_loss improved from 0.29395 to 0.28208, saving model to /tmp/checkpoint.h5\n",
            "40/40 - 3s - loss: 0.4897 - accuracy: 0.7867 - val_loss: 0.2821 - val_accuracy: 0.9434 - 3s/epoch - 86ms/step\n",
            "Epoch 30/60\n",
            "\n",
            "Epoch 00030: val_loss improved from 0.28208 to 0.27998, saving model to /tmp/checkpoint.h5\n",
            "40/40 - 3s - loss: 0.4889 - accuracy: 0.7899 - val_loss: 0.2800 - val_accuracy: 0.9434 - 3s/epoch - 86ms/step\n",
            "Epoch 31/60\n",
            "\n",
            "Epoch 00031: val_loss did not improve from 0.27998\n",
            "40/40 - 4s - loss: 0.4839 - accuracy: 0.7859 - val_loss: 0.3009 - val_accuracy: 0.9308 - 4s/epoch - 90ms/step\n",
            "Epoch 32/60\n",
            "\n",
            "Epoch 00032: val_loss did not improve from 0.27998\n",
            "40/40 - 4s - loss: 0.4736 - accuracy: 0.7954 - val_loss: 0.3012 - val_accuracy: 0.9308 - 4s/epoch - 89ms/step\n",
            "Epoch 33/60\n",
            "\n",
            "Epoch 00033: val_loss did not improve from 0.27998\n",
            "40/40 - 4s - loss: 0.4812 - accuracy: 0.7978 - val_loss: 0.2928 - val_accuracy: 0.9308 - 4s/epoch - 88ms/step\n",
            "Epoch 34/60\n",
            "\n",
            "Epoch 00034: val_loss improved from 0.27998 to 0.27841, saving model to /tmp/checkpoint.h5\n",
            "40/40 - 4s - loss: 0.4776 - accuracy: 0.7875 - val_loss: 0.2784 - val_accuracy: 0.9308 - 4s/epoch - 91ms/step\n",
            "Epoch 35/60\n",
            "\n",
            "Epoch 00035: val_loss did not improve from 0.27841\n",
            "40/40 - 4s - loss: 0.4744 - accuracy: 0.7938 - val_loss: 0.2935 - val_accuracy: 0.9308 - 4s/epoch - 88ms/step\n",
            "Epoch 36/60\n",
            "\n",
            "Epoch 00036: val_loss did not improve from 0.27841\n",
            "40/40 - 4s - loss: 0.4776 - accuracy: 0.7930 - val_loss: 0.2913 - val_accuracy: 0.9245 - 4s/epoch - 88ms/step\n",
            "Epoch 37/60\n",
            "\n",
            "Epoch 00037: val_loss improved from 0.27841 to 0.27759, saving model to /tmp/checkpoint.h5\n",
            "40/40 - 4s - loss: 0.4762 - accuracy: 0.7852 - val_loss: 0.2776 - val_accuracy: 0.9245 - 4s/epoch - 90ms/step\n",
            "Epoch 38/60\n",
            "\n",
            "Epoch 00038: val_loss did not improve from 0.27759\n",
            "40/40 - 4s - loss: 0.4780 - accuracy: 0.7891 - val_loss: 0.2868 - val_accuracy: 0.9245 - 4s/epoch - 88ms/step\n",
            "Epoch 39/60\n",
            "\n",
            "Epoch 00039: val_loss did not improve from 0.27759\n",
            "40/40 - 3s - loss: 0.4754 - accuracy: 0.7883 - val_loss: 0.2914 - val_accuracy: 0.9182 - 3s/epoch - 87ms/step\n",
            "Epoch 40/60\n",
            "\n",
            "Epoch 00040: val_loss did not improve from 0.27759\n",
            "40/40 - 4s - loss: 0.4600 - accuracy: 0.8096 - val_loss: 0.2924 - val_accuracy: 0.9182 - 4s/epoch - 88ms/step\n",
            "Epoch 41/60\n",
            "\n",
            "Epoch 00041: val_loss did not improve from 0.27759\n",
            "40/40 - 3s - loss: 0.4598 - accuracy: 0.7962 - val_loss: 0.2884 - val_accuracy: 0.9182 - 3s/epoch - 87ms/step\n",
            "Epoch 42/60\n",
            "\n",
            "Epoch 00042: val_loss did not improve from 0.27759\n",
            "40/40 - 3s - loss: 0.4622 - accuracy: 0.8081 - val_loss: 0.2809 - val_accuracy: 0.9182 - 3s/epoch - 87ms/step\n",
            "Epoch 43/60\n",
            "\n",
            "Epoch 00043: val_loss improved from 0.27759 to 0.26602, saving model to /tmp/checkpoint.h5\n",
            "40/40 - 4s - loss: 0.4536 - accuracy: 0.8128 - val_loss: 0.2660 - val_accuracy: 0.9371 - 4s/epoch - 90ms/step\n",
            "Epoch 44/60\n",
            "\n",
            "Epoch 00044: val_loss did not improve from 0.26602\n",
            "40/40 - 3s - loss: 0.4760 - accuracy: 0.7923 - val_loss: 0.2787 - val_accuracy: 0.9182 - 3s/epoch - 86ms/step\n",
            "Epoch 45/60\n",
            "\n",
            "Epoch 00045: val_loss did not improve from 0.26602\n",
            "40/40 - 3s - loss: 0.4593 - accuracy: 0.8167 - val_loss: 0.2914 - val_accuracy: 0.9182 - 3s/epoch - 87ms/step\n",
            "Epoch 46/60\n",
            "\n",
            "Epoch 00046: val_loss did not improve from 0.26602\n",
            "40/40 - 4s - loss: 0.4581 - accuracy: 0.8057 - val_loss: 0.2921 - val_accuracy: 0.9182 - 4s/epoch - 88ms/step\n",
            "Epoch 47/60\n",
            "\n",
            "Epoch 00047: val_loss did not improve from 0.26602\n",
            "40/40 - 4s - loss: 0.4552 - accuracy: 0.8160 - val_loss: 0.2697 - val_accuracy: 0.9245 - 4s/epoch - 88ms/step\n",
            "Epoch 48/60\n",
            "\n",
            "Epoch 00048: val_loss did not improve from 0.26602\n",
            "40/40 - 3s - loss: 0.4561 - accuracy: 0.8002 - val_loss: 0.2777 - val_accuracy: 0.9245 - 3s/epoch - 87ms/step\n",
            "Epoch 49/60\n",
            "\n",
            "Epoch 00049: val_loss did not improve from 0.26602\n",
            "40/40 - 4s - loss: 0.4504 - accuracy: 0.7946 - val_loss: 0.2904 - val_accuracy: 0.9245 - 4s/epoch - 88ms/step\n",
            "Epoch 50/60\n",
            "\n",
            "Epoch 00050: val_loss did not improve from 0.26602\n",
            "40/40 - 4s - loss: 0.4428 - accuracy: 0.8025 - val_loss: 0.2822 - val_accuracy: 0.9182 - 4s/epoch - 88ms/step\n",
            "Epoch 51/60\n",
            "\n",
            "Epoch 00051: val_loss did not improve from 0.26602\n",
            "40/40 - 3s - loss: 0.4551 - accuracy: 0.7978 - val_loss: 0.2671 - val_accuracy: 0.9308 - 3s/epoch - 87ms/step\n",
            "Epoch 52/60\n",
            "\n",
            "Epoch 00052: val_loss did not improve from 0.26602\n",
            "40/40 - 4s - loss: 0.4555 - accuracy: 0.7978 - val_loss: 0.2890 - val_accuracy: 0.9245 - 4s/epoch - 88ms/step\n",
            "Epoch 53/60\n",
            "\n",
            "Epoch 00053: val_loss did not improve from 0.26602\n",
            "40/40 - 3s - loss: 0.4495 - accuracy: 0.8081 - val_loss: 0.2849 - val_accuracy: 0.9245 - 3s/epoch - 87ms/step\n",
            "Epoch 54/60\n",
            "\n",
            "Epoch 00054: val_loss did not improve from 0.26602\n",
            "40/40 - 3s - loss: 0.4466 - accuracy: 0.8128 - val_loss: 0.2741 - val_accuracy: 0.9308 - 3s/epoch - 87ms/step\n",
            "Epoch 55/60\n",
            "\n",
            "Epoch 00055: val_loss improved from 0.26602 to 0.26439, saving model to /tmp/checkpoint.h5\n",
            "40/40 - 4s - loss: 0.4475 - accuracy: 0.8017 - val_loss: 0.2644 - val_accuracy: 0.9371 - 4s/epoch - 89ms/step\n",
            "Epoch 56/60\n",
            "\n",
            "Epoch 00056: val_loss did not improve from 0.26439\n",
            "40/40 - 4s - loss: 0.4504 - accuracy: 0.7994 - val_loss: 0.2657 - val_accuracy: 0.9308 - 4s/epoch - 88ms/step\n",
            "Epoch 57/60\n",
            "\n",
            "Epoch 00057: val_loss did not improve from 0.26439\n",
            "40/40 - 3s - loss: 0.4404 - accuracy: 0.8152 - val_loss: 0.2690 - val_accuracy: 0.9308 - 3s/epoch - 87ms/step\n",
            "Epoch 58/60\n",
            "\n",
            "Epoch 00058: val_loss improved from 0.26439 to 0.25378, saving model to /tmp/checkpoint.h5\n",
            "40/40 - 4s - loss: 0.4351 - accuracy: 0.8239 - val_loss: 0.2538 - val_accuracy: 0.9371 - 4s/epoch - 90ms/step\n",
            "Epoch 59/60\n",
            "\n",
            "Epoch 00059: val_loss improved from 0.25378 to 0.25122, saving model to /tmp/checkpoint.h5\n",
            "40/40 - 4s - loss: 0.4488 - accuracy: 0.7962 - val_loss: 0.2512 - val_accuracy: 0.9371 - 4s/epoch - 89ms/step\n",
            "Epoch 60/60\n",
            "\n",
            "Epoch 00060: val_loss did not improve from 0.25122\n",
            "40/40 - 3s - loss: 0.4437 - accuracy: 0.8025 - val_loss: 0.2531 - val_accuracy: 0.9371 - 3s/epoch - 87ms/step\n"
          ]
        }
      ]
    },
    {
      "cell_type": "code",
      "metadata": {
        "id": "MGsGv1ccnBXI"
      },
      "source": [
        "# reload best weights\n",
        "model.load_weights('/tmp/checkpoint.h5')"
      ],
      "execution_count": 25,
      "outputs": []
    },
    {
      "cell_type": "code",
      "metadata": {
        "colab": {
          "base_uri": "https://localhost:8080/"
        },
        "id": "VUh07Xqmd6Cu",
        "outputId": "dd1164b8-51c9-4381-cee1-04bbb4aa7070"
      },
      "source": [
        "# prediction\n",
        "probs = model.predict(X_test)\n",
        "preds = probs.argmax(axis = -1)  \n",
        "acc = np.mean(preds == Y_test.argmax(axis=-1))\n",
        "print(\"Classification accuracy: %f \" % (acc))"
      ],
      "execution_count": 26,
      "outputs": [
        {
          "output_type": "stream",
          "name": "stdout",
          "text": [
            "Classification accuracy: 0.987261 \n"
          ]
        }
      ]
    },
    {
      "cell_type": "code",
      "metadata": {
        "colab": {
          "base_uri": "https://localhost:8080/",
          "height": 282
        },
        "id": "4MY7kDz-fmi6",
        "outputId": "1b81a71e-40df-4bcc-80d6-e20bc50099c6"
      },
      "source": [
        "Y_test_decoded = np.argmax(Y_test, axis=1)\n",
        "cm = confusion_matrix(y_true=Y_test_decoded, y_pred=preds)\n",
        "sns.heatmap(cm, annot=True, fmt=\"d\")"
      ],
      "execution_count": 27,
      "outputs": [
        {
          "output_type": "execute_result",
          "data": {
            "text/plain": [
              "<matplotlib.axes._subplots.AxesSubplot at 0x7fb6e7db8710>"
            ]
          },
          "metadata": {},
          "execution_count": 27
        },
        {
          "output_type": "display_data",
          "data": {
            "image/png": "[encoded data removed]",
            "text/plain": [
              "<Figure size 432x288 with 2 Axes>"
            ]
          },
          "metadata": {
            "needs_background": "light"
          }
        }
      ]
    },
    {
      "cell_type": "code",
      "metadata": {
        "colab": {
          "base_uri": "https://localhost:8080/",
          "height": 295
        },
        "id": "Su5Iw5HCSGV0",
        "outputId": "f796bb3e-d513-4c49-8d55-7ee6555ef610"
      },
      "source": [
        "# summarize history for accuracy\n",
        "plt.plot(fittedModel.history['accuracy'])\n",
        "plt.plot(fittedModel.history['val_accuracy'])\n",
        "plt.title('model accuracy')\n",
        "plt.ylabel('accuracy')\n",
        "plt.xlabel('epoch')\n",
        "plt.legend(['train', 'val'], loc='lower right')\n",
        "plt.show()"
      ],
      "execution_count": 28,
      "outputs": [
        {
          "output_type": "display_data",
          "data": {
            "image/png": "[encoded data removed]",
            "text/plain": [
              "<Figure size 432x288 with 1 Axes>"
            ]
          },
          "metadata": {
            "needs_background": "light"
          }
        }
      ]
    },
    {
      "cell_type": "code",
      "metadata": {
        "colab": {
          "base_uri": "https://localhost:8080/",
          "height": 295
        },
        "id": "SX2xUmrHNjv8",
        "outputId": "a2702303-7c47-49eb-f920-7cccced2c752"
      },
      "source": [
        "# summarize history for loss\n",
        "plt.plot(fittedModel.history['loss'])\n",
        "plt.plot(fittedModel.history['val_loss'])\n",
        "plt.title('model loss')\n",
        "plt.ylabel('loss')\n",
        "plt.xlabel('epoch')\n",
        "plt.legend(['train', 'val'], loc='upper right')\n",
        "plt.show()"
      ],
      "execution_count": 29,
      "outputs": [
        {
          "output_type": "display_data",
          "data": {
            "image/png": "[encoded data removed]",
            "text/plain": [
              "<Figure size 432x288 with 1 Axes>"
            ]
          },
          "metadata": {
            "needs_background": "light"
          }
        }
      ]
    },
    {
      "cell_type": "code",
      "metadata": {
        "id": "QhvZ4v05Nn2L"
      },
      "source": [
        "model.save('test-model')"
      ],
      "execution_count": null,
      "outputs": []
    }
  ]
}