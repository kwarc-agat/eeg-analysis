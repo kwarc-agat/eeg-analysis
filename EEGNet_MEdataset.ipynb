{
  "nbformat": 4,
  "nbformat_minor": 0,
  "metadata": {
    "colab": {
      "name": "EEGNet-MEdataset.ipynb",
      "provenance": [],
      "collapsed_sections": [],
      "mount_file_id": "1cfTFlpDjqxeldv9VVe2TR0faBv4dVAMN",
      "authorship_tag": "ABX9TyNB7uNrDlIJNG/QkYFc19p5"
    },
    "kernelspec": {
      "name": "python3",
      "display_name": "Python 3"
    },
    "language_info": {
      "name": "python"
    },
    "accelerator": "GPU"
  },
  "cells": [
    {
      "cell_type": "markdown",
      "metadata": {
        "id": "-zTc6yxfzjkY"
      },
      "source": [
        "Configure Google Colab env"
      ]
    },
    {
      "cell_type": "code",
      "metadata": {
        "id": "tlM9PyJblG0K"
      },
      "source": [
        "%cd drive/MyDrive/Datasets/Iteration_4/csv_files/\n",
        "% ls"
      ],
      "execution_count": null,
      "outputs": []
    },
    {
      "cell_type": "code",
      "metadata": {
        "id": "E58FPordDmOy"
      },
      "source": [
        "from google.colab import files\n",
        "files.upload()"
      ],
      "execution_count": null,
      "outputs": []
    },
    {
      "cell_type": "code",
      "metadata": {
        "id": "cDkuY82Dk-a7"
      },
      "source": [
        "import numpy as np\n",
        "import pandas as pd\n",
        "import os\n",
        "import csv\n",
        "from math import floor, ceil\n",
        "import pickle\n",
        "\n",
        "from tensorflow.keras import utils as np_utils\n",
        "from sklearn.metrics import confusion_matrix\n",
        "from sklearn.preprocessing import StandardScaler, MinMaxScaler, Normalizer\n",
        "from sklearn.utils import shuffle\n",
        "\n",
        "# EEGNet-specific imports\n",
        "from EEGModels import EEGNet\n",
        "from tensorflow.keras import utils as np_utils\n",
        "from tensorflow.keras.callbacks import ModelCheckpoint\n",
        "from tensorflow.keras import backend as K\n",
        "from tensorflow.keras.optimizers import Adam\n",
        "\n",
        "# tools for plotting confusion matrices\n",
        "from matplotlib import pyplot as plt\n",
        "import seaborn as sns \n",
        "\n",
        "K.set_image_data_format('channels_last')"
      ],
      "execution_count": 28,
      "outputs": []
    },
    {
      "cell_type": "code",
      "metadata": {
        "id": "VDM1pRfM_QDE"
      },
      "source": [
        "# constants for processing\n",
        "\n",
        "kernels, chans, samples = 1, 8, 40"
      ],
      "execution_count": 29,
      "outputs": []
    },
    {
      "cell_type": "markdown",
      "metadata": {
        "id": "G_kmsINrfQJA"
      },
      "source": [
        "# Load and process data"
      ]
    },
    {
      "cell_type": "code",
      "metadata": {
        "id": "BUutYYrP_kw8",
        "colab": {
          "base_uri": "https://localhost:8080/"
        },
        "outputId": "06e8b56a-f2a8-4dbc-90bd-8d6f05c6b1af"
      },
      "source": [
        "X = pickle.load(open(\"X_607.pkl\", \"rb\"))\n",
        "X.shape"
      ],
      "execution_count": 30,
      "outputs": [
        {
          "output_type": "execute_result",
          "data": {
            "text/plain": [
              "(607, 8, 40)"
            ]
          },
          "metadata": {},
          "execution_count": 30
        }
      ]
    },
    {
      "cell_type": "code",
      "metadata": {
        "id": "6vMbsro_DU8c",
        "colab": {
          "base_uri": "https://localhost:8080/"
        },
        "outputId": "9042e140-f6dc-465d-8e00-37f2aac177dc"
      },
      "source": [
        "# load labels as y input for EEGNet\n",
        "\n",
        "y = pd.read_csv(\"y_607_2classes.csv\")\n",
        "y = y.drop('Unnamed: 0', axis=1)\n",
        "y = y['0'].to_numpy()\n",
        "\n",
        "unique, counts = np.unique(y, return_counts=True)\n",
        "np.asarray((unique, counts)).T"
      ],
      "execution_count": 31,
      "outputs": [
        {
          "output_type": "execute_result",
          "data": {
            "text/plain": [
              "array([[  0, 294],\n",
              "       [  1, 313]])"
            ]
          },
          "metadata": {},
          "execution_count": 31
        }
      ]
    },
    {
      "cell_type": "code",
      "metadata": {
        "id": "p601fDrBNJbM"
      },
      "source": [
        "X, y = shuffle(X, y)"
      ],
      "execution_count": 32,
      "outputs": []
    },
    {
      "cell_type": "code",
      "metadata": {
        "id": "aSrcUQJNN0Ja"
      },
      "source": [
        "# apply moving average filter to input\n",
        "\n",
        "X_smooth = np.array(X)\n",
        "for i in range(X_smooth.shape[0]):\n",
        "  for j in range(X_smooth.shape[1]):\n",
        "    X_smooth[i, j, :] = np.convolve(X_smooth[i,j], np.ones(10), 'same') / 10\n",
        "X_smooth = X_smooth/10**6\n",
        "\n",
        "X = np.array(X_smooth)"
      ],
      "execution_count": 33,
      "outputs": []
    },
    {
      "cell_type": "code",
      "metadata": {
        "colab": {
          "base_uri": "https://localhost:8080/"
        },
        "id": "G15eUWVmICk4",
        "outputId": "b9e38c38-ec35-432f-e9f1-28d690e69d25"
      },
      "source": [
        "# extract subsets\n",
        "train_subset_idx = ceil(X.shape[0]*0.8)\n",
        "valid_subset_idx = train_subset_idx + ceil(X.shape[0]*0.1)\n",
        "\n",
        "X_train      = X[0:train_subset_idx]\n",
        "Y_train      = y[0:train_subset_idx]\n",
        "X_validate   = X[train_subset_idx:valid_subset_idx]\n",
        "Y_validate   = y[train_subset_idx:valid_subset_idx]\n",
        "X_test       = X[valid_subset_idx:]\n",
        "Y_test       = y[valid_subset_idx:]\n",
        "\n",
        "# convert labels to one-hot encodings.\n",
        "Y_train      = np_utils.to_categorical(Y_train, num_classes=2)\n",
        "Y_validate   = np_utils.to_categorical(Y_validate, num_classes=2)\n",
        "Y_test       = np_utils.to_categorical(Y_test, num_classes=2)\n",
        "\n",
        "# convert data to NHWC (trials, channels, samples, kernels) format\n",
        "X_train      = X_train.reshape(X_train.shape[0], chans, samples, kernels)\n",
        "X_validate   = X_validate.reshape(X_validate.shape[0], chans, samples, kernels)\n",
        "X_test       = X_test.reshape(X_test.shape[0], chans, samples, kernels)\n",
        "   \n",
        "print('X_train shape:', X_train.shape)\n",
        "print(X_train.shape[0], 'train samples')\n",
        "print(X_validate.shape[0], 'validate samples')\n",
        "print(X_test.shape[0], 'test samples')\n",
        "\n",
        "print('Y_train shape:', Y_train.shape)"
      ],
      "execution_count": 34,
      "outputs": [
        {
          "output_type": "stream",
          "name": "stdout",
          "text": [
            "X_train shape: (486, 8, 40, 1)\n",
            "486 train samples\n",
            "61 validate samples\n",
            "60 test samples\n",
            "Y_train shape: (486, 2)\n"
          ]
        }
      ]
    },
    {
      "cell_type": "markdown",
      "metadata": {
        "id": "qRxIZKsxNv3v"
      },
      "source": [
        "# Training model"
      ]
    },
    {
      "cell_type": "code",
      "metadata": {
        "id": "LCTgI8M7NTPL",
        "colab": {
          "base_uri": "https://localhost:8080/"
        },
        "outputId": "a570f5ee-6f96-46b5-cf52-385a3f1114ae"
      },
      "source": [
        "# initialize model\n",
        "model = EEGNet(nb_classes = 2, Chans = chans, Samples = samples, \n",
        "               dropoutRate = 0.5, kernLength = 32, F1 = 32, D = 4, F2 = 32, \n",
        "               dropoutType = 'Dropout')\n",
        "model.summary()"
      ],
      "execution_count": 35,
      "outputs": [
        {
          "output_type": "stream",
          "name": "stdout",
          "text": [
            "Model: \"model_1\"\n",
            "_________________________________________________________________\n",
            " Layer (type)                Output Shape              Param #   \n",
            "=================================================================\n",
            " input_2 (InputLayer)        [(None, 8, 40, 1)]        0         \n",
            "                                                                 \n",
            " conv2d_1 (Conv2D)           (None, 8, 40, 32)         1024      \n",
            "                                                                 \n",
            " batch_normalization_3 (Batc  (None, 8, 40, 32)        128       \n",
            " hNormalization)                                                 \n",
            "                                                                 \n",
            " depthwise_conv2d_1 (Depthwi  (None, 1, 40, 128)       1024      \n",
            " seConv2D)                                                       \n",
            "                                                                 \n",
            " batch_normalization_4 (Batc  (None, 1, 40, 128)       512       \n",
            " hNormalization)                                                 \n",
            "                                                                 \n",
            " activation_2 (Activation)   (None, 1, 40, 128)        0         \n",
            "                                                                 \n",
            " average_pooling2d_2 (Averag  (None, 1, 10, 128)       0         \n",
            " ePooling2D)                                                     \n",
            "                                                                 \n",
            " dropout_2 (Dropout)         (None, 1, 10, 128)        0         \n",
            "                                                                 \n",
            " separable_conv2d_1 (Separab  (None, 1, 10, 32)        6144      \n",
            " leConv2D)                                                       \n",
            "                                                                 \n",
            " batch_normalization_5 (Batc  (None, 1, 10, 32)        128       \n",
            " hNormalization)                                                 \n",
            "                                                                 \n",
            " activation_3 (Activation)   (None, 1, 10, 32)         0         \n",
            "                                                                 \n",
            " average_pooling2d_3 (Averag  (None, 1, 1, 32)         0         \n",
            " ePooling2D)                                                     \n",
            "                                                                 \n",
            " dropout_3 (Dropout)         (None, 1, 1, 32)          0         \n",
            "                                                                 \n",
            " flatten (Flatten)           (None, 32)                0         \n",
            "                                                                 \n",
            " dense (Dense)               (None, 2)                 66        \n",
            "                                                                 \n",
            " softmax (Activation)        (None, 2)                 0         \n",
            "                                                                 \n",
            "=================================================================\n",
            "Total params: 9,026\n",
            "Trainable params: 8,642\n",
            "Non-trainable params: 384\n",
            "_________________________________________________________________\n"
          ]
        }
      ]
    },
    {
      "cell_type": "code",
      "metadata": {
        "id": "C84Xofc0Sztb"
      },
      "source": [
        "adam = Adam(learning_rate=0.0001)\n",
        "\n",
        "model.compile(loss='categorical_crossentropy', optimizer=adam, \n",
        "              metrics = ['accuracy'])\n",
        "\n",
        "checkpointer = ModelCheckpoint(filepath='/tmp/checkpoint.h5', verbose=1,\n",
        "                               save_best_only=True)\n",
        "class_weights = {0:1, 1:1}"
      ],
      "execution_count": 36,
      "outputs": []
    },
    {
      "cell_type": "code",
      "metadata": {
        "colab": {
          "base_uri": "https://localhost:8080/"
        },
        "id": "6M8cxp-kdi1V",
        "outputId": "fe31c4ba-1a85-43e9-a191-ee857c1e4585"
      },
      "source": [
        "# train model\n",
        "fittedModel = model.fit(X_train, Y_train, batch_size = 32, epochs = 150, validation_data=(X_validate, Y_validate),\n",
        "                        callbacks=[checkpointer],verbose = 2, class_weight = class_weights)"
      ],
      "execution_count": 37,
      "outputs": [
        {
          "output_type": "stream",
          "name": "stdout",
          "text": [
            "Epoch 1/150\n",
            "\n",
            "Epoch 00001: val_loss improved from inf to 0.69313, saving model to /tmp/checkpoint.h5\n",
            "16/16 - 1s - loss: 0.7211 - accuracy: 0.4835 - val_loss: 0.6931 - val_accuracy: 0.4918 - 881ms/epoch - 55ms/step\n",
            "Epoch 2/150\n",
            "\n",
            "Epoch 00002: val_loss improved from 0.69313 to 0.69310, saving model to /tmp/checkpoint.h5\n",
            "16/16 - 0s - loss: 0.6867 - accuracy: 0.5165 - val_loss: 0.6931 - val_accuracy: 0.4918 - 120ms/epoch - 7ms/step\n",
            "Epoch 3/150\n",
            "\n",
            "Epoch 00003: val_loss improved from 0.69310 to 0.69308, saving model to /tmp/checkpoint.h5\n",
            "16/16 - 0s - loss: 0.6870 - accuracy: 0.5412 - val_loss: 0.6931 - val_accuracy: 0.4918 - 123ms/epoch - 8ms/step\n",
            "Epoch 4/150\n",
            "\n",
            "Epoch 00004: val_loss improved from 0.69308 to 0.69303, saving model to /tmp/checkpoint.h5\n",
            "16/16 - 0s - loss: 0.6803 - accuracy: 0.5720 - val_loss: 0.6930 - val_accuracy: 0.5574 - 115ms/epoch - 7ms/step\n",
            "Epoch 5/150\n",
            "\n",
            "Epoch 00005: val_loss improved from 0.69303 to 0.69296, saving model to /tmp/checkpoint.h5\n",
            "16/16 - 0s - loss: 0.6864 - accuracy: 0.5453 - val_loss: 0.6930 - val_accuracy: 0.6393 - 123ms/epoch - 8ms/step\n",
            "Epoch 6/150\n",
            "\n",
            "Epoch 00006: val_loss improved from 0.69296 to 0.69290, saving model to /tmp/checkpoint.h5\n",
            "16/16 - 0s - loss: 0.6823 - accuracy: 0.5556 - val_loss: 0.6929 - val_accuracy: 0.7049 - 118ms/epoch - 7ms/step\n",
            "Epoch 7/150\n",
            "\n",
            "Epoch 00007: val_loss improved from 0.69290 to 0.69282, saving model to /tmp/checkpoint.h5\n",
            "16/16 - 0s - loss: 0.6859 - accuracy: 0.5412 - val_loss: 0.6928 - val_accuracy: 0.5738 - 118ms/epoch - 7ms/step\n",
            "Epoch 8/150\n",
            "\n",
            "Epoch 00008: val_loss improved from 0.69282 to 0.69271, saving model to /tmp/checkpoint.h5\n",
            "16/16 - 0s - loss: 0.6809 - accuracy: 0.5617 - val_loss: 0.6927 - val_accuracy: 0.4754 - 118ms/epoch - 7ms/step\n",
            "Epoch 9/150\n",
            "\n",
            "Epoch 00009: val_loss improved from 0.69271 to 0.69255, saving model to /tmp/checkpoint.h5\n",
            "16/16 - 0s - loss: 0.6836 - accuracy: 0.5844 - val_loss: 0.6925 - val_accuracy: 0.5082 - 117ms/epoch - 7ms/step\n",
            "Epoch 10/150\n",
            "\n",
            "Epoch 00010: val_loss improved from 0.69255 to 0.69242, saving model to /tmp/checkpoint.h5\n",
            "16/16 - 0s - loss: 0.6869 - accuracy: 0.5926 - val_loss: 0.6924 - val_accuracy: 0.5082 - 124ms/epoch - 8ms/step\n",
            "Epoch 11/150\n",
            "\n",
            "Epoch 00011: val_loss improved from 0.69242 to 0.69235, saving model to /tmp/checkpoint.h5\n",
            "16/16 - 0s - loss: 0.6892 - accuracy: 0.5638 - val_loss: 0.6923 - val_accuracy: 0.5082 - 131ms/epoch - 8ms/step\n",
            "Epoch 12/150\n",
            "\n",
            "Epoch 00012: val_loss improved from 0.69235 to 0.69220, saving model to /tmp/checkpoint.h5\n",
            "16/16 - 0s - loss: 0.6790 - accuracy: 0.5514 - val_loss: 0.6922 - val_accuracy: 0.5082 - 118ms/epoch - 7ms/step\n",
            "Epoch 13/150\n",
            "\n",
            "Epoch 00013: val_loss improved from 0.69220 to 0.69204, saving model to /tmp/checkpoint.h5\n",
            "16/16 - 0s - loss: 0.6845 - accuracy: 0.5576 - val_loss: 0.6920 - val_accuracy: 0.5082 - 121ms/epoch - 8ms/step\n",
            "Epoch 14/150\n",
            "\n",
            "Epoch 00014: val_loss improved from 0.69204 to 0.69171, saving model to /tmp/checkpoint.h5\n",
            "16/16 - 0s - loss: 0.6752 - accuracy: 0.5679 - val_loss: 0.6917 - val_accuracy: 0.5246 - 117ms/epoch - 7ms/step\n",
            "Epoch 15/150\n",
            "\n",
            "Epoch 00015: val_loss improved from 0.69171 to 0.69147, saving model to /tmp/checkpoint.h5\n",
            "16/16 - 0s - loss: 0.6816 - accuracy: 0.5782 - val_loss: 0.6915 - val_accuracy: 0.5082 - 119ms/epoch - 7ms/step\n",
            "Epoch 16/150\n",
            "\n",
            "Epoch 00016: val_loss improved from 0.69147 to 0.69123, saving model to /tmp/checkpoint.h5\n",
            "16/16 - 0s - loss: 0.6785 - accuracy: 0.5700 - val_loss: 0.6912 - val_accuracy: 0.4918 - 118ms/epoch - 7ms/step\n",
            "Epoch 17/150\n",
            "\n",
            "Epoch 00017: val_loss improved from 0.69123 to 0.69074, saving model to /tmp/checkpoint.h5\n",
            "16/16 - 0s - loss: 0.6836 - accuracy: 0.5473 - val_loss: 0.6907 - val_accuracy: 0.4754 - 124ms/epoch - 8ms/step\n",
            "Epoch 18/150\n",
            "\n",
            "Epoch 00018: val_loss improved from 0.69074 to 0.69035, saving model to /tmp/checkpoint.h5\n",
            "16/16 - 0s - loss: 0.6778 - accuracy: 0.5700 - val_loss: 0.6903 - val_accuracy: 0.4918 - 115ms/epoch - 7ms/step\n",
            "Epoch 19/150\n",
            "\n",
            "Epoch 00019: val_loss improved from 0.69035 to 0.68985, saving model to /tmp/checkpoint.h5\n",
            "16/16 - 0s - loss: 0.6783 - accuracy: 0.5658 - val_loss: 0.6898 - val_accuracy: 0.5738 - 125ms/epoch - 8ms/step\n",
            "Epoch 20/150\n",
            "\n",
            "Epoch 00020: val_loss improved from 0.68985 to 0.68929, saving model to /tmp/checkpoint.h5\n",
            "16/16 - 0s - loss: 0.6804 - accuracy: 0.5720 - val_loss: 0.6893 - val_accuracy: 0.6066 - 123ms/epoch - 8ms/step\n",
            "Epoch 21/150\n",
            "\n",
            "Epoch 00021: val_loss improved from 0.68929 to 0.68839, saving model to /tmp/checkpoint.h5\n",
            "16/16 - 0s - loss: 0.6776 - accuracy: 0.5617 - val_loss: 0.6884 - val_accuracy: 0.7377 - 129ms/epoch - 8ms/step\n",
            "Epoch 22/150\n",
            "\n",
            "Epoch 00022: val_loss improved from 0.68839 to 0.68764, saving model to /tmp/checkpoint.h5\n",
            "16/16 - 0s - loss: 0.6727 - accuracy: 0.5597 - val_loss: 0.6876 - val_accuracy: 0.7049 - 122ms/epoch - 8ms/step\n",
            "Epoch 23/150\n",
            "\n",
            "Epoch 00023: val_loss improved from 0.68764 to 0.68612, saving model to /tmp/checkpoint.h5\n",
            "16/16 - 0s - loss: 0.6771 - accuracy: 0.5700 - val_loss: 0.6861 - val_accuracy: 0.6557 - 125ms/epoch - 8ms/step\n",
            "Epoch 24/150\n",
            "\n",
            "Epoch 00024: val_loss improved from 0.68612 to 0.68492, saving model to /tmp/checkpoint.h5\n",
            "16/16 - 0s - loss: 0.6801 - accuracy: 0.5823 - val_loss: 0.6849 - val_accuracy: 0.6557 - 121ms/epoch - 8ms/step\n",
            "Epoch 25/150\n",
            "\n",
            "Epoch 00025: val_loss improved from 0.68492 to 0.68361, saving model to /tmp/checkpoint.h5\n",
            "16/16 - 0s - loss: 0.6758 - accuracy: 0.5658 - val_loss: 0.6836 - val_accuracy: 0.6721 - 117ms/epoch - 7ms/step\n",
            "Epoch 26/150\n",
            "\n",
            "Epoch 00026: val_loss improved from 0.68361 to 0.68323, saving model to /tmp/checkpoint.h5\n",
            "16/16 - 0s - loss: 0.6802 - accuracy: 0.5576 - val_loss: 0.6832 - val_accuracy: 0.6721 - 119ms/epoch - 7ms/step\n",
            "Epoch 27/150\n",
            "\n",
            "Epoch 00027: val_loss improved from 0.68323 to 0.68243, saving model to /tmp/checkpoint.h5\n",
            "16/16 - 0s - loss: 0.6777 - accuracy: 0.5576 - val_loss: 0.6824 - val_accuracy: 0.6557 - 126ms/epoch - 8ms/step\n",
            "Epoch 28/150\n",
            "\n",
            "Epoch 00028: val_loss did not improve from 0.68243\n",
            "16/16 - 0s - loss: 0.6788 - accuracy: 0.5638 - val_loss: 0.6826 - val_accuracy: 0.6721 - 82ms/epoch - 5ms/step\n",
            "Epoch 29/150\n",
            "\n",
            "Epoch 00029: val_loss improved from 0.68243 to 0.68110, saving model to /tmp/checkpoint.h5\n",
            "16/16 - 0s - loss: 0.6781 - accuracy: 0.5638 - val_loss: 0.6811 - val_accuracy: 0.6393 - 123ms/epoch - 8ms/step\n",
            "Epoch 30/150\n",
            "\n",
            "Epoch 00030: val_loss improved from 0.68110 to 0.68028, saving model to /tmp/checkpoint.h5\n",
            "16/16 - 0s - loss: 0.6858 - accuracy: 0.5802 - val_loss: 0.6803 - val_accuracy: 0.6393 - 118ms/epoch - 7ms/step\n",
            "Epoch 31/150\n",
            "\n",
            "Epoch 00031: val_loss improved from 0.68028 to 0.68025, saving model to /tmp/checkpoint.h5\n",
            "16/16 - 0s - loss: 0.6804 - accuracy: 0.5700 - val_loss: 0.6802 - val_accuracy: 0.6721 - 119ms/epoch - 7ms/step\n",
            "Epoch 32/150\n",
            "\n",
            "Epoch 00032: val_loss improved from 0.68025 to 0.67819, saving model to /tmp/checkpoint.h5\n",
            "16/16 - 0s - loss: 0.6680 - accuracy: 0.5782 - val_loss: 0.6782 - val_accuracy: 0.6066 - 119ms/epoch - 7ms/step\n",
            "Epoch 33/150\n",
            "\n",
            "Epoch 00033: val_loss improved from 0.67819 to 0.67567, saving model to /tmp/checkpoint.h5\n",
            "16/16 - 0s - loss: 0.6741 - accuracy: 0.5638 - val_loss: 0.6757 - val_accuracy: 0.6066 - 119ms/epoch - 7ms/step\n",
            "Epoch 34/150\n",
            "\n",
            "Epoch 00034: val_loss improved from 0.67567 to 0.67412, saving model to /tmp/checkpoint.h5\n",
            "16/16 - 0s - loss: 0.6785 - accuracy: 0.5761 - val_loss: 0.6741 - val_accuracy: 0.6066 - 123ms/epoch - 8ms/step\n",
            "Epoch 35/150\n",
            "\n",
            "Epoch 00035: val_loss improved from 0.67412 to 0.67262, saving model to /tmp/checkpoint.h5\n",
            "16/16 - 0s - loss: 0.6793 - accuracy: 0.5494 - val_loss: 0.6726 - val_accuracy: 0.6066 - 121ms/epoch - 8ms/step\n",
            "Epoch 36/150\n",
            "\n",
            "Epoch 00036: val_loss improved from 0.67262 to 0.66960, saving model to /tmp/checkpoint.h5\n",
            "16/16 - 0s - loss: 0.6712 - accuracy: 0.5802 - val_loss: 0.6696 - val_accuracy: 0.6230 - 117ms/epoch - 7ms/step\n",
            "Epoch 37/150\n",
            "\n",
            "Epoch 00037: val_loss improved from 0.66960 to 0.66900, saving model to /tmp/checkpoint.h5\n",
            "16/16 - 0s - loss: 0.6765 - accuracy: 0.5823 - val_loss: 0.6690 - val_accuracy: 0.6066 - 124ms/epoch - 8ms/step\n",
            "Epoch 38/150\n",
            "\n",
            "Epoch 00038: val_loss improved from 0.66900 to 0.66850, saving model to /tmp/checkpoint.h5\n",
            "16/16 - 0s - loss: 0.6847 - accuracy: 0.5453 - val_loss: 0.6685 - val_accuracy: 0.6230 - 129ms/epoch - 8ms/step\n",
            "Epoch 39/150\n",
            "\n",
            "Epoch 00039: val_loss improved from 0.66850 to 0.66685, saving model to /tmp/checkpoint.h5\n",
            "16/16 - 0s - loss: 0.6761 - accuracy: 0.5556 - val_loss: 0.6668 - val_accuracy: 0.6230 - 121ms/epoch - 8ms/step\n",
            "Epoch 40/150\n",
            "\n",
            "Epoch 00040: val_loss improved from 0.66685 to 0.66606, saving model to /tmp/checkpoint.h5\n",
            "16/16 - 0s - loss: 0.6787 - accuracy: 0.5638 - val_loss: 0.6661 - val_accuracy: 0.6230 - 116ms/epoch - 7ms/step\n",
            "Epoch 41/150\n",
            "\n",
            "Epoch 00041: val_loss improved from 0.66606 to 0.66601, saving model to /tmp/checkpoint.h5\n",
            "16/16 - 0s - loss: 0.6787 - accuracy: 0.5761 - val_loss: 0.6660 - val_accuracy: 0.6230 - 120ms/epoch - 8ms/step\n",
            "Epoch 42/150\n",
            "\n",
            "Epoch 00042: val_loss did not improve from 0.66601\n",
            "16/16 - 0s - loss: 0.6720 - accuracy: 0.5761 - val_loss: 0.6663 - val_accuracy: 0.6230 - 80ms/epoch - 5ms/step\n",
            "Epoch 43/150\n",
            "\n",
            "Epoch 00043: val_loss did not improve from 0.66601\n",
            "16/16 - 0s - loss: 0.6792 - accuracy: 0.5638 - val_loss: 0.6662 - val_accuracy: 0.6230 - 79ms/epoch - 5ms/step\n",
            "Epoch 44/150\n",
            "\n",
            "Epoch 00044: val_loss improved from 0.66601 to 0.66476, saving model to /tmp/checkpoint.h5\n",
            "16/16 - 0s - loss: 0.6766 - accuracy: 0.6008 - val_loss: 0.6648 - val_accuracy: 0.6230 - 133ms/epoch - 8ms/step\n",
            "Epoch 45/150\n",
            "\n",
            "Epoch 00045: val_loss did not improve from 0.66476\n",
            "16/16 - 0s - loss: 0.6742 - accuracy: 0.5782 - val_loss: 0.6657 - val_accuracy: 0.6066 - 78ms/epoch - 5ms/step\n",
            "Epoch 46/150\n",
            "\n",
            "Epoch 00046: val_loss did not improve from 0.66476\n",
            "16/16 - 0s - loss: 0.6729 - accuracy: 0.5823 - val_loss: 0.6660 - val_accuracy: 0.6066 - 82ms/epoch - 5ms/step\n",
            "Epoch 47/150\n",
            "\n",
            "Epoch 00047: val_loss did not improve from 0.66476\n",
            "16/16 - 0s - loss: 0.6758 - accuracy: 0.5823 - val_loss: 0.6661 - val_accuracy: 0.6066 - 77ms/epoch - 5ms/step\n",
            "Epoch 48/150\n",
            "\n",
            "Epoch 00048: val_loss improved from 0.66476 to 0.66412, saving model to /tmp/checkpoint.h5\n",
            "16/16 - 0s - loss: 0.6701 - accuracy: 0.5741 - val_loss: 0.6641 - val_accuracy: 0.6066 - 117ms/epoch - 7ms/step\n",
            "Epoch 49/150\n",
            "\n",
            "Epoch 00049: val_loss did not improve from 0.66412\n",
            "16/16 - 0s - loss: 0.6797 - accuracy: 0.5597 - val_loss: 0.6644 - val_accuracy: 0.6066 - 81ms/epoch - 5ms/step\n",
            "Epoch 50/150\n",
            "\n",
            "Epoch 00050: val_loss improved from 0.66412 to 0.66406, saving model to /tmp/checkpoint.h5\n",
            "16/16 - 0s - loss: 0.6754 - accuracy: 0.5741 - val_loss: 0.6641 - val_accuracy: 0.6066 - 122ms/epoch - 8ms/step\n",
            "Epoch 51/150\n",
            "\n",
            "Epoch 00051: val_loss did not improve from 0.66406\n",
            "16/16 - 0s - loss: 0.6757 - accuracy: 0.5700 - val_loss: 0.6646 - val_accuracy: 0.6066 - 78ms/epoch - 5ms/step\n",
            "Epoch 52/150\n",
            "\n",
            "Epoch 00052: val_loss did not improve from 0.66406\n",
            "16/16 - 0s - loss: 0.6780 - accuracy: 0.5658 - val_loss: 0.6648 - val_accuracy: 0.6066 - 73ms/epoch - 5ms/step\n",
            "Epoch 53/150\n",
            "\n",
            "Epoch 00053: val_loss did not improve from 0.66406\n",
            "16/16 - 0s - loss: 0.6808 - accuracy: 0.5617 - val_loss: 0.6650 - val_accuracy: 0.6066 - 83ms/epoch - 5ms/step\n",
            "Epoch 54/150\n",
            "\n",
            "Epoch 00054: val_loss did not improve from 0.66406\n",
            "16/16 - 0s - loss: 0.6735 - accuracy: 0.5617 - val_loss: 0.6643 - val_accuracy: 0.6066 - 80ms/epoch - 5ms/step\n",
            "Epoch 55/150\n",
            "\n",
            "Epoch 00055: val_loss did not improve from 0.66406\n",
            "16/16 - 0s - loss: 0.6713 - accuracy: 0.5679 - val_loss: 0.6643 - val_accuracy: 0.6066 - 87ms/epoch - 5ms/step\n",
            "Epoch 56/150\n",
            "\n",
            "Epoch 00056: val_loss did not improve from 0.66406\n",
            "16/16 - 0s - loss: 0.6745 - accuracy: 0.5576 - val_loss: 0.6648 - val_accuracy: 0.6230 - 82ms/epoch - 5ms/step\n",
            "Epoch 57/150\n",
            "\n",
            "Epoch 00057: val_loss did not improve from 0.66406\n",
            "16/16 - 0s - loss: 0.6739 - accuracy: 0.5761 - val_loss: 0.6644 - val_accuracy: 0.6066 - 84ms/epoch - 5ms/step\n",
            "Epoch 58/150\n",
            "\n",
            "Epoch 00058: val_loss improved from 0.66406 to 0.66385, saving model to /tmp/checkpoint.h5\n",
            "16/16 - 0s - loss: 0.6742 - accuracy: 0.5741 - val_loss: 0.6638 - val_accuracy: 0.6066 - 118ms/epoch - 7ms/step\n",
            "Epoch 59/150\n",
            "\n",
            "Epoch 00059: val_loss improved from 0.66385 to 0.66380, saving model to /tmp/checkpoint.h5\n",
            "16/16 - 0s - loss: 0.6718 - accuracy: 0.5885 - val_loss: 0.6638 - val_accuracy: 0.6066 - 119ms/epoch - 7ms/step\n",
            "Epoch 60/150\n",
            "\n",
            "Epoch 00060: val_loss improved from 0.66380 to 0.66343, saving model to /tmp/checkpoint.h5\n",
            "16/16 - 0s - loss: 0.6700 - accuracy: 0.5864 - val_loss: 0.6634 - val_accuracy: 0.6230 - 121ms/epoch - 8ms/step\n",
            "Epoch 61/150\n",
            "\n",
            "Epoch 00061: val_loss improved from 0.66343 to 0.66256, saving model to /tmp/checkpoint.h5\n",
            "16/16 - 0s - loss: 0.6731 - accuracy: 0.5885 - val_loss: 0.6626 - val_accuracy: 0.6066 - 118ms/epoch - 7ms/step\n",
            "Epoch 62/150\n",
            "\n",
            "Epoch 00062: val_loss improved from 0.66256 to 0.66252, saving model to /tmp/checkpoint.h5\n",
            "16/16 - 0s - loss: 0.6727 - accuracy: 0.5761 - val_loss: 0.6625 - val_accuracy: 0.6066 - 125ms/epoch - 8ms/step\n",
            "Epoch 63/150\n",
            "\n",
            "Epoch 00063: val_loss did not improve from 0.66252\n",
            "16/16 - 0s - loss: 0.6751 - accuracy: 0.5700 - val_loss: 0.6628 - val_accuracy: 0.6066 - 80ms/epoch - 5ms/step\n",
            "Epoch 64/150\n",
            "\n",
            "Epoch 00064: val_loss did not improve from 0.66252\n",
            "16/16 - 0s - loss: 0.6721 - accuracy: 0.5844 - val_loss: 0.6632 - val_accuracy: 0.6066 - 84ms/epoch - 5ms/step\n",
            "Epoch 65/150\n",
            "\n",
            "Epoch 00065: val_loss did not improve from 0.66252\n",
            "16/16 - 0s - loss: 0.6761 - accuracy: 0.5700 - val_loss: 0.6639 - val_accuracy: 0.6066 - 77ms/epoch - 5ms/step\n",
            "Epoch 66/150\n",
            "\n",
            "Epoch 00066: val_loss did not improve from 0.66252\n",
            "16/16 - 0s - loss: 0.6781 - accuracy: 0.5514 - val_loss: 0.6657 - val_accuracy: 0.6066 - 81ms/epoch - 5ms/step\n",
            "Epoch 67/150\n",
            "\n",
            "Epoch 00067: val_loss did not improve from 0.66252\n",
            "16/16 - 0s - loss: 0.6739 - accuracy: 0.5844 - val_loss: 0.6658 - val_accuracy: 0.6066 - 83ms/epoch - 5ms/step\n",
            "Epoch 68/150\n",
            "\n",
            "Epoch 00068: val_loss did not improve from 0.66252\n",
            "16/16 - 0s - loss: 0.6788 - accuracy: 0.5700 - val_loss: 0.6676 - val_accuracy: 0.6230 - 82ms/epoch - 5ms/step\n",
            "Epoch 69/150\n",
            "\n",
            "Epoch 00069: val_loss did not improve from 0.66252\n",
            "16/16 - 0s - loss: 0.6788 - accuracy: 0.5597 - val_loss: 0.6663 - val_accuracy: 0.6066 - 80ms/epoch - 5ms/step\n",
            "Epoch 70/150\n",
            "\n",
            "Epoch 00070: val_loss did not improve from 0.66252\n",
            "16/16 - 0s - loss: 0.6783 - accuracy: 0.5556 - val_loss: 0.6660 - val_accuracy: 0.6230 - 79ms/epoch - 5ms/step\n",
            "Epoch 71/150\n",
            "\n",
            "Epoch 00071: val_loss did not improve from 0.66252\n",
            "16/16 - 0s - loss: 0.6726 - accuracy: 0.5761 - val_loss: 0.6665 - val_accuracy: 0.6230 - 84ms/epoch - 5ms/step\n",
            "Epoch 72/150\n",
            "\n",
            "Epoch 00072: val_loss did not improve from 0.66252\n",
            "16/16 - 0s - loss: 0.6754 - accuracy: 0.5864 - val_loss: 0.6667 - val_accuracy: 0.6066 - 80ms/epoch - 5ms/step\n",
            "Epoch 73/150\n",
            "\n",
            "Epoch 00073: val_loss did not improve from 0.66252\n",
            "16/16 - 0s - loss: 0.6752 - accuracy: 0.5864 - val_loss: 0.6666 - val_accuracy: 0.6066 - 82ms/epoch - 5ms/step\n",
            "Epoch 74/150\n",
            "\n",
            "Epoch 00074: val_loss did not improve from 0.66252\n",
            "16/16 - 0s - loss: 0.6681 - accuracy: 0.5823 - val_loss: 0.6660 - val_accuracy: 0.6230 - 81ms/epoch - 5ms/step\n",
            "Epoch 75/150\n",
            "\n",
            "Epoch 00075: val_loss did not improve from 0.66252\n",
            "16/16 - 0s - loss: 0.6738 - accuracy: 0.5576 - val_loss: 0.6661 - val_accuracy: 0.6230 - 77ms/epoch - 5ms/step\n",
            "Epoch 76/150\n",
            "\n",
            "Epoch 00076: val_loss did not improve from 0.66252\n",
            "16/16 - 0s - loss: 0.6817 - accuracy: 0.5700 - val_loss: 0.6665 - val_accuracy: 0.6066 - 89ms/epoch - 6ms/step\n",
            "Epoch 77/150\n",
            "\n",
            "Epoch 00077: val_loss did not improve from 0.66252\n",
            "16/16 - 0s - loss: 0.6712 - accuracy: 0.5597 - val_loss: 0.6664 - val_accuracy: 0.6066 - 81ms/epoch - 5ms/step\n",
            "Epoch 78/150\n",
            "\n",
            "Epoch 00078: val_loss did not improve from 0.66252\n",
            "16/16 - 0s - loss: 0.6691 - accuracy: 0.5947 - val_loss: 0.6658 - val_accuracy: 0.6066 - 78ms/epoch - 5ms/step\n",
            "Epoch 79/150\n",
            "\n",
            "Epoch 00079: val_loss did not improve from 0.66252\n",
            "16/16 - 0s - loss: 0.6745 - accuracy: 0.5761 - val_loss: 0.6661 - val_accuracy: 0.6230 - 81ms/epoch - 5ms/step\n",
            "Epoch 80/150\n",
            "\n",
            "Epoch 00080: val_loss did not improve from 0.66252\n",
            "16/16 - 0s - loss: 0.6654 - accuracy: 0.5576 - val_loss: 0.6664 - val_accuracy: 0.6230 - 77ms/epoch - 5ms/step\n",
            "Epoch 81/150\n",
            "\n",
            "Epoch 00081: val_loss did not improve from 0.66252\n",
            "16/16 - 0s - loss: 0.6719 - accuracy: 0.5823 - val_loss: 0.6664 - val_accuracy: 0.6230 - 82ms/epoch - 5ms/step\n",
            "Epoch 82/150\n",
            "\n",
            "Epoch 00082: val_loss did not improve from 0.66252\n",
            "16/16 - 0s - loss: 0.6688 - accuracy: 0.5823 - val_loss: 0.6656 - val_accuracy: 0.6066 - 78ms/epoch - 5ms/step\n",
            "Epoch 83/150\n",
            "\n",
            "Epoch 00083: val_loss did not improve from 0.66252\n",
            "16/16 - 0s - loss: 0.6707 - accuracy: 0.6008 - val_loss: 0.6651 - val_accuracy: 0.6066 - 76ms/epoch - 5ms/step\n",
            "Epoch 84/150\n",
            "\n",
            "Epoch 00084: val_loss did not improve from 0.66252\n",
            "16/16 - 0s - loss: 0.6717 - accuracy: 0.5802 - val_loss: 0.6650 - val_accuracy: 0.6066 - 77ms/epoch - 5ms/step\n",
            "Epoch 85/150\n",
            "\n",
            "Epoch 00085: val_loss did not improve from 0.66252\n",
            "16/16 - 0s - loss: 0.6713 - accuracy: 0.5802 - val_loss: 0.6656 - val_accuracy: 0.6066 - 76ms/epoch - 5ms/step\n",
            "Epoch 86/150\n",
            "\n",
            "Epoch 00086: val_loss did not improve from 0.66252\n",
            "16/16 - 0s - loss: 0.6707 - accuracy: 0.5905 - val_loss: 0.6658 - val_accuracy: 0.6066 - 80ms/epoch - 5ms/step\n",
            "Epoch 87/150\n",
            "\n",
            "Epoch 00087: val_loss did not improve from 0.66252\n",
            "16/16 - 0s - loss: 0.6720 - accuracy: 0.5700 - val_loss: 0.6655 - val_accuracy: 0.6066 - 78ms/epoch - 5ms/step\n",
            "Epoch 88/150\n",
            "\n",
            "Epoch 00088: val_loss did not improve from 0.66252\n",
            "16/16 - 0s - loss: 0.6703 - accuracy: 0.5679 - val_loss: 0.6659 - val_accuracy: 0.6066 - 86ms/epoch - 5ms/step\n",
            "Epoch 89/150\n",
            "\n",
            "Epoch 00089: val_loss did not improve from 0.66252\n",
            "16/16 - 0s - loss: 0.6703 - accuracy: 0.5947 - val_loss: 0.6662 - val_accuracy: 0.6066 - 75ms/epoch - 5ms/step\n",
            "Epoch 90/150\n",
            "\n",
            "Epoch 00090: val_loss did not improve from 0.66252\n",
            "16/16 - 0s - loss: 0.6724 - accuracy: 0.5823 - val_loss: 0.6661 - val_accuracy: 0.6066 - 82ms/epoch - 5ms/step\n",
            "Epoch 91/150\n",
            "\n",
            "Epoch 00091: val_loss did not improve from 0.66252\n",
            "16/16 - 0s - loss: 0.6791 - accuracy: 0.5741 - val_loss: 0.6657 - val_accuracy: 0.6066 - 78ms/epoch - 5ms/step\n",
            "Epoch 92/150\n",
            "\n",
            "Epoch 00092: val_loss did not improve from 0.66252\n",
            "16/16 - 0s - loss: 0.6805 - accuracy: 0.5782 - val_loss: 0.6663 - val_accuracy: 0.6066 - 79ms/epoch - 5ms/step\n",
            "Epoch 93/150\n",
            "\n",
            "Epoch 00093: val_loss did not improve from 0.66252\n",
            "16/16 - 0s - loss: 0.6747 - accuracy: 0.5720 - val_loss: 0.6679 - val_accuracy: 0.6230 - 77ms/epoch - 5ms/step\n",
            "Epoch 94/150\n",
            "\n",
            "Epoch 00094: val_loss did not improve from 0.66252\n",
            "16/16 - 0s - loss: 0.6721 - accuracy: 0.5741 - val_loss: 0.6689 - val_accuracy: 0.6230 - 81ms/epoch - 5ms/step\n",
            "Epoch 95/150\n",
            "\n",
            "Epoch 00095: val_loss did not improve from 0.66252\n",
            "16/16 - 0s - loss: 0.6650 - accuracy: 0.5576 - val_loss: 0.6671 - val_accuracy: 0.6066 - 78ms/epoch - 5ms/step\n",
            "Epoch 96/150\n",
            "\n",
            "Epoch 00096: val_loss did not improve from 0.66252\n",
            "16/16 - 0s - loss: 0.6670 - accuracy: 0.5844 - val_loss: 0.6671 - val_accuracy: 0.6066 - 75ms/epoch - 5ms/step\n",
            "Epoch 97/150\n",
            "\n",
            "Epoch 00097: val_loss did not improve from 0.66252\n",
            "16/16 - 0s - loss: 0.6663 - accuracy: 0.6008 - val_loss: 0.6667 - val_accuracy: 0.6066 - 80ms/epoch - 5ms/step\n",
            "Epoch 98/150\n",
            "\n",
            "Epoch 00098: val_loss did not improve from 0.66252\n",
            "16/16 - 0s - loss: 0.6715 - accuracy: 0.5988 - val_loss: 0.6676 - val_accuracy: 0.6066 - 81ms/epoch - 5ms/step\n",
            "Epoch 99/150\n",
            "\n",
            "Epoch 00099: val_loss did not improve from 0.66252\n",
            "16/16 - 0s - loss: 0.6684 - accuracy: 0.5864 - val_loss: 0.6665 - val_accuracy: 0.6066 - 78ms/epoch - 5ms/step\n",
            "Epoch 100/150\n",
            "\n",
            "Epoch 00100: val_loss did not improve from 0.66252\n",
            "16/16 - 0s - loss: 0.6708 - accuracy: 0.6070 - val_loss: 0.6670 - val_accuracy: 0.5902 - 81ms/epoch - 5ms/step\n",
            "Epoch 101/150\n",
            "\n",
            "Epoch 00101: val_loss did not improve from 0.66252\n",
            "16/16 - 0s - loss: 0.6694 - accuracy: 0.5617 - val_loss: 0.6680 - val_accuracy: 0.6066 - 83ms/epoch - 5ms/step\n",
            "Epoch 102/150\n",
            "\n",
            "Epoch 00102: val_loss did not improve from 0.66252\n",
            "16/16 - 0s - loss: 0.6651 - accuracy: 0.5926 - val_loss: 0.6685 - val_accuracy: 0.5902 - 79ms/epoch - 5ms/step\n",
            "Epoch 103/150\n",
            "\n",
            "Epoch 00103: val_loss did not improve from 0.66252\n",
            "16/16 - 0s - loss: 0.6736 - accuracy: 0.5905 - val_loss: 0.6683 - val_accuracy: 0.5902 - 80ms/epoch - 5ms/step\n",
            "Epoch 104/150\n",
            "\n",
            "Epoch 00104: val_loss did not improve from 0.66252\n",
            "16/16 - 0s - loss: 0.6772 - accuracy: 0.5761 - val_loss: 0.6690 - val_accuracy: 0.6230 - 78ms/epoch - 5ms/step\n",
            "Epoch 105/150\n",
            "\n",
            "Epoch 00105: val_loss did not improve from 0.66252\n",
            "16/16 - 0s - loss: 0.6700 - accuracy: 0.5947 - val_loss: 0.6687 - val_accuracy: 0.6066 - 80ms/epoch - 5ms/step\n",
            "Epoch 106/150\n",
            "\n",
            "Epoch 00106: val_loss did not improve from 0.66252\n",
            "16/16 - 0s - loss: 0.6656 - accuracy: 0.5741 - val_loss: 0.6686 - val_accuracy: 0.6066 - 82ms/epoch - 5ms/step\n",
            "Epoch 107/150\n",
            "\n",
            "Epoch 00107: val_loss did not improve from 0.66252\n",
            "16/16 - 0s - loss: 0.6672 - accuracy: 0.5967 - val_loss: 0.6679 - val_accuracy: 0.6230 - 77ms/epoch - 5ms/step\n",
            "Epoch 108/150\n",
            "\n",
            "Epoch 00108: val_loss did not improve from 0.66252\n",
            "16/16 - 0s - loss: 0.6696 - accuracy: 0.5885 - val_loss: 0.6684 - val_accuracy: 0.6230 - 82ms/epoch - 5ms/step\n",
            "Epoch 109/150\n",
            "\n",
            "Epoch 00109: val_loss did not improve from 0.66252\n",
            "16/16 - 0s - loss: 0.6659 - accuracy: 0.6049 - val_loss: 0.6688 - val_accuracy: 0.6230 - 80ms/epoch - 5ms/step\n",
            "Epoch 110/150\n",
            "\n",
            "Epoch 00110: val_loss did not improve from 0.66252\n",
            "16/16 - 0s - loss: 0.6651 - accuracy: 0.5823 - val_loss: 0.6701 - val_accuracy: 0.6066 - 79ms/epoch - 5ms/step\n",
            "Epoch 111/150\n",
            "\n",
            "Epoch 00111: val_loss did not improve from 0.66252\n",
            "16/16 - 0s - loss: 0.6631 - accuracy: 0.6008 - val_loss: 0.6702 - val_accuracy: 0.6066 - 82ms/epoch - 5ms/step\n",
            "Epoch 112/150\n",
            "\n",
            "Epoch 00112: val_loss did not improve from 0.66252\n",
            "16/16 - 0s - loss: 0.6613 - accuracy: 0.5905 - val_loss: 0.6697 - val_accuracy: 0.6066 - 85ms/epoch - 5ms/step\n",
            "Epoch 113/150\n",
            "\n",
            "Epoch 00113: val_loss did not improve from 0.66252\n",
            "16/16 - 0s - loss: 0.6660 - accuracy: 0.5782 - val_loss: 0.6697 - val_accuracy: 0.6066 - 83ms/epoch - 5ms/step\n",
            "Epoch 114/150\n",
            "\n",
            "Epoch 00114: val_loss did not improve from 0.66252\n",
            "16/16 - 0s - loss: 0.6657 - accuracy: 0.5761 - val_loss: 0.6701 - val_accuracy: 0.5902 - 80ms/epoch - 5ms/step\n",
            "Epoch 115/150\n",
            "\n",
            "Epoch 00115: val_loss did not improve from 0.66252\n",
            "16/16 - 0s - loss: 0.6594 - accuracy: 0.6008 - val_loss: 0.6699 - val_accuracy: 0.6066 - 80ms/epoch - 5ms/step\n",
            "Epoch 116/150\n",
            "\n",
            "Epoch 00116: val_loss did not improve from 0.66252\n",
            "16/16 - 0s - loss: 0.6675 - accuracy: 0.5720 - val_loss: 0.6696 - val_accuracy: 0.6066 - 79ms/epoch - 5ms/step\n",
            "Epoch 117/150\n",
            "\n",
            "Epoch 00117: val_loss did not improve from 0.66252\n",
            "16/16 - 0s - loss: 0.6712 - accuracy: 0.5885 - val_loss: 0.6704 - val_accuracy: 0.5738 - 78ms/epoch - 5ms/step\n",
            "Epoch 118/150\n",
            "\n",
            "Epoch 00118: val_loss did not improve from 0.66252\n",
            "16/16 - 0s - loss: 0.6670 - accuracy: 0.5761 - val_loss: 0.6707 - val_accuracy: 0.5902 - 77ms/epoch - 5ms/step\n",
            "Epoch 119/150\n",
            "\n",
            "Epoch 00119: val_loss did not improve from 0.66252\n",
            "16/16 - 0s - loss: 0.6691 - accuracy: 0.5782 - val_loss: 0.6718 - val_accuracy: 0.5738 - 79ms/epoch - 5ms/step\n",
            "Epoch 120/150\n",
            "\n",
            "Epoch 00120: val_loss did not improve from 0.66252\n",
            "16/16 - 0s - loss: 0.6698 - accuracy: 0.5823 - val_loss: 0.6723 - val_accuracy: 0.5902 - 83ms/epoch - 5ms/step\n",
            "Epoch 121/150\n",
            "\n",
            "Epoch 00121: val_loss did not improve from 0.66252\n",
            "16/16 - 0s - loss: 0.6800 - accuracy: 0.5741 - val_loss: 0.6720 - val_accuracy: 0.6066 - 80ms/epoch - 5ms/step\n",
            "Epoch 122/150\n",
            "\n",
            "Epoch 00122: val_loss did not improve from 0.66252\n",
            "16/16 - 0s - loss: 0.6744 - accuracy: 0.5905 - val_loss: 0.6711 - val_accuracy: 0.5902 - 79ms/epoch - 5ms/step\n",
            "Epoch 123/150\n",
            "\n",
            "Epoch 00123: val_loss did not improve from 0.66252\n",
            "16/16 - 0s - loss: 0.6695 - accuracy: 0.5926 - val_loss: 0.6720 - val_accuracy: 0.5738 - 84ms/epoch - 5ms/step\n",
            "Epoch 124/150\n",
            "\n",
            "Epoch 00124: val_loss did not improve from 0.66252\n",
            "16/16 - 0s - loss: 0.6670 - accuracy: 0.6008 - val_loss: 0.6721 - val_accuracy: 0.5738 - 78ms/epoch - 5ms/step\n",
            "Epoch 125/150\n",
            "\n",
            "Epoch 00125: val_loss did not improve from 0.66252\n",
            "16/16 - 0s - loss: 0.6663 - accuracy: 0.6029 - val_loss: 0.6703 - val_accuracy: 0.5738 - 88ms/epoch - 5ms/step\n",
            "Epoch 126/150\n",
            "\n",
            "Epoch 00126: val_loss did not improve from 0.66252\n",
            "16/16 - 0s - loss: 0.6615 - accuracy: 0.6008 - val_loss: 0.6693 - val_accuracy: 0.6066 - 82ms/epoch - 5ms/step\n",
            "Epoch 127/150\n",
            "\n",
            "Epoch 00127: val_loss did not improve from 0.66252\n",
            "16/16 - 0s - loss: 0.6647 - accuracy: 0.6029 - val_loss: 0.6693 - val_accuracy: 0.6066 - 87ms/epoch - 5ms/step\n",
            "Epoch 128/150\n",
            "\n",
            "Epoch 00128: val_loss did not improve from 0.66252\n",
            "16/16 - 0s - loss: 0.6666 - accuracy: 0.5885 - val_loss: 0.6700 - val_accuracy: 0.5902 - 80ms/epoch - 5ms/step\n",
            "Epoch 129/150\n",
            "\n",
            "Epoch 00129: val_loss did not improve from 0.66252\n",
            "16/16 - 0s - loss: 0.6649 - accuracy: 0.5720 - val_loss: 0.6681 - val_accuracy: 0.5902 - 76ms/epoch - 5ms/step\n",
            "Epoch 130/150\n",
            "\n",
            "Epoch 00130: val_loss did not improve from 0.66252\n",
            "16/16 - 0s - loss: 0.6705 - accuracy: 0.5700 - val_loss: 0.6699 - val_accuracy: 0.6066 - 78ms/epoch - 5ms/step\n",
            "Epoch 131/150\n",
            "\n",
            "Epoch 00131: val_loss did not improve from 0.66252\n",
            "16/16 - 0s - loss: 0.6657 - accuracy: 0.6029 - val_loss: 0.6692 - val_accuracy: 0.5902 - 83ms/epoch - 5ms/step\n",
            "Epoch 132/150\n",
            "\n",
            "Epoch 00132: val_loss did not improve from 0.66252\n",
            "16/16 - 0s - loss: 0.6648 - accuracy: 0.5782 - val_loss: 0.6703 - val_accuracy: 0.5902 - 79ms/epoch - 5ms/step\n",
            "Epoch 133/150\n",
            "\n",
            "Epoch 00133: val_loss did not improve from 0.66252\n",
            "16/16 - 0s - loss: 0.6635 - accuracy: 0.5885 - val_loss: 0.6716 - val_accuracy: 0.6230 - 80ms/epoch - 5ms/step\n",
            "Epoch 134/150\n",
            "\n",
            "Epoch 00134: val_loss did not improve from 0.66252\n",
            "16/16 - 0s - loss: 0.6602 - accuracy: 0.5864 - val_loss: 0.6701 - val_accuracy: 0.6066 - 78ms/epoch - 5ms/step\n",
            "Epoch 135/150\n",
            "\n",
            "Epoch 00135: val_loss did not improve from 0.66252\n",
            "16/16 - 0s - loss: 0.6629 - accuracy: 0.5905 - val_loss: 0.6697 - val_accuracy: 0.6066 - 84ms/epoch - 5ms/step\n",
            "Epoch 136/150\n",
            "\n",
            "Epoch 00136: val_loss did not improve from 0.66252\n",
            "16/16 - 0s - loss: 0.6642 - accuracy: 0.6193 - val_loss: 0.6689 - val_accuracy: 0.5902 - 79ms/epoch - 5ms/step\n",
            "Epoch 137/150\n",
            "\n",
            "Epoch 00137: val_loss did not improve from 0.66252\n",
            "16/16 - 0s - loss: 0.6625 - accuracy: 0.6070 - val_loss: 0.6686 - val_accuracy: 0.5902 - 90ms/epoch - 6ms/step\n",
            "Epoch 138/150\n",
            "\n",
            "Epoch 00138: val_loss did not improve from 0.66252\n",
            "16/16 - 0s - loss: 0.6623 - accuracy: 0.5720 - val_loss: 0.6698 - val_accuracy: 0.5902 - 80ms/epoch - 5ms/step\n",
            "Epoch 139/150\n",
            "\n",
            "Epoch 00139: val_loss did not improve from 0.66252\n",
            "16/16 - 0s - loss: 0.6578 - accuracy: 0.6049 - val_loss: 0.6710 - val_accuracy: 0.5738 - 78ms/epoch - 5ms/step\n",
            "Epoch 140/150\n",
            "\n",
            "Epoch 00140: val_loss did not improve from 0.66252\n",
            "16/16 - 0s - loss: 0.6713 - accuracy: 0.5864 - val_loss: 0.6719 - val_accuracy: 0.6066 - 81ms/epoch - 5ms/step\n",
            "Epoch 141/150\n",
            "\n",
            "Epoch 00141: val_loss did not improve from 0.66252\n",
            "16/16 - 0s - loss: 0.6611 - accuracy: 0.5967 - val_loss: 0.6727 - val_accuracy: 0.6066 - 82ms/epoch - 5ms/step\n",
            "Epoch 142/150\n",
            "\n",
            "Epoch 00142: val_loss did not improve from 0.66252\n",
            "16/16 - 0s - loss: 0.6714 - accuracy: 0.5576 - val_loss: 0.6717 - val_accuracy: 0.5738 - 80ms/epoch - 5ms/step\n",
            "Epoch 143/150\n",
            "\n",
            "Epoch 00143: val_loss did not improve from 0.66252\n",
            "16/16 - 0s - loss: 0.6658 - accuracy: 0.5802 - val_loss: 0.6730 - val_accuracy: 0.6230 - 80ms/epoch - 5ms/step\n",
            "Epoch 144/150\n",
            "\n",
            "Epoch 00144: val_loss did not improve from 0.66252\n",
            "16/16 - 0s - loss: 0.6579 - accuracy: 0.5947 - val_loss: 0.6732 - val_accuracy: 0.6230 - 78ms/epoch - 5ms/step\n",
            "Epoch 145/150\n",
            "\n",
            "Epoch 00145: val_loss did not improve from 0.66252\n",
            "16/16 - 0s - loss: 0.6661 - accuracy: 0.5864 - val_loss: 0.6700 - val_accuracy: 0.5902 - 80ms/epoch - 5ms/step\n",
            "Epoch 146/150\n",
            "\n",
            "Epoch 00146: val_loss did not improve from 0.66252\n",
            "16/16 - 0s - loss: 0.6623 - accuracy: 0.5844 - val_loss: 0.6692 - val_accuracy: 0.5902 - 76ms/epoch - 5ms/step\n",
            "Epoch 147/150\n",
            "\n",
            "Epoch 00147: val_loss did not improve from 0.66252\n",
            "16/16 - 0s - loss: 0.6583 - accuracy: 0.5926 - val_loss: 0.6696 - val_accuracy: 0.5902 - 81ms/epoch - 5ms/step\n",
            "Epoch 148/150\n",
            "\n",
            "Epoch 00148: val_loss did not improve from 0.66252\n",
            "16/16 - 0s - loss: 0.6623 - accuracy: 0.5947 - val_loss: 0.6716 - val_accuracy: 0.5902 - 75ms/epoch - 5ms/step\n",
            "Epoch 149/150\n",
            "\n",
            "Epoch 00149: val_loss did not improve from 0.66252\n",
            "16/16 - 0s - loss: 0.6719 - accuracy: 0.5597 - val_loss: 0.6700 - val_accuracy: 0.5902 - 90ms/epoch - 6ms/step\n",
            "Epoch 150/150\n",
            "\n",
            "Epoch 00150: val_loss did not improve from 0.66252\n",
            "16/16 - 0s - loss: 0.6678 - accuracy: 0.6132 - val_loss: 0.6697 - val_accuracy: 0.5902 - 76ms/epoch - 5ms/step\n"
          ]
        }
      ]
    },
    {
      "cell_type": "code",
      "metadata": {
        "id": "MGsGv1ccnBXI"
      },
      "source": [
        "# load optimal weights saved in training process\n",
        "model.load_weights('/tmp/checkpoint.h5')"
      ],
      "execution_count": 40,
      "outputs": []
    },
    {
      "cell_type": "code",
      "metadata": {
        "colab": {
          "base_uri": "https://localhost:8080/"
        },
        "id": "VUh07Xqmd6Cu",
        "outputId": "0e9ed0b3-05c7-47f5-fede-b105c15dec15"
      },
      "source": [
        "# predict\n",
        "probs = model.predict(X_test)\n",
        "preds = probs.argmax(axis = -1)  \n",
        "acc = np.mean(preds == Y_test.argmax(axis=-1))\n",
        "print(\"Classification accuracy: %f \" % (acc))"
      ],
      "execution_count": 41,
      "outputs": [
        {
          "output_type": "stream",
          "name": "stdout",
          "text": [
            "Classification accuracy: 0.566667 \n"
          ]
        }
      ]
    },
    {
      "cell_type": "code",
      "metadata": {
        "colab": {
          "base_uri": "https://localhost:8080/",
          "height": 286
        },
        "id": "4MY7kDz-fmi6",
        "outputId": "e2ee1d69-310a-4cd9-f83a-d30b98961b31"
      },
      "source": [
        "Y_test_decoded = np.argmax(Y_test, axis=1)\n",
        "cm = confusion_matrix(y_true=Y_test_decoded, y_pred=preds)\n",
        "sns.heatmap(cm, annot=True, fmt=\"d\")"
      ],
      "execution_count": 42,
      "outputs": [
        {
          "output_type": "execute_result",
          "data": {
            "text/plain": [
              "<matplotlib.axes._subplots.AxesSubplot at 0x7fc419d64d50>"
            ]
          },
          "metadata": {},
          "execution_count": 42
        },
        {
          "output_type": "display_data",
          "data": {
            "image/png": "[encoded data removed]",
            "text/plain": [
              "<Figure size 432x288 with 2 Axes>"
            ]
          },
          "metadata": {
            "needs_background": "light"
          }
        }
      ]
    },
    {
      "cell_type": "code",
      "metadata": {
        "colab": {
          "base_uri": "https://localhost:8080/",
          "height": 295
        },
        "id": "Su5Iw5HCSGV0",
        "outputId": "9558bcfb-1380-4fd8-8bd3-f4a0df49eba6"
      },
      "source": [
        "# summarize history for accuracy\n",
        "plt.plot(fittedModel.history['accuracy'])\n",
        "plt.plot(fittedModel.history['val_accuracy'])\n",
        "plt.title('model accuracy')\n",
        "plt.ylabel('accuracy')\n",
        "plt.xlabel('epoch')\n",
        "plt.legend(['train', 'val'], loc='lower right')\n",
        "plt.show()"
      ],
      "execution_count": 43,
      "outputs": [
        {
          "output_type": "display_data",
          "data": {
            "image/png": "[encoded data removed]",
            "text/plain": [
              "<Figure size 432x288 with 1 Axes>"
            ]
          },
          "metadata": {
            "needs_background": "light"
          }
        }
      ]
    },
    {
      "cell_type": "code",
      "metadata": {
        "colab": {
          "base_uri": "https://localhost:8080/",
          "height": 295
        },
        "id": "SX2xUmrHNjv8",
        "outputId": "d16c4678-8057-4657-aedf-b7e818e71924"
      },
      "source": [
        "# summarize history for loss\n",
        "plt.plot(fittedModel.history['loss'])\n",
        "plt.plot(fittedModel.history['val_loss'])\n",
        "plt.title('model loss')\n",
        "plt.ylabel('loss')\n",
        "plt.xlabel('epoch')\n",
        "plt.legend(['train', 'val'], loc='upper right')\n",
        "plt.show()"
      ],
      "execution_count": 44,
      "outputs": [
        {
          "output_type": "display_data",
          "data": {
            "image/png": "[encoded data removed]",
            "text/plain": [
              "<Figure size 432x288 with 1 Axes>"
            ]
          },
          "metadata": {
            "needs_background": "light"
          }
        }
      ]
    },
    {
      "cell_type": "code",
      "metadata": {
        "id": "QhvZ4v05Nn2L"
      },
      "source": [
        "model.save('test-model')"
      ],
      "execution_count": null,
      "outputs": []
    }
  ]
}