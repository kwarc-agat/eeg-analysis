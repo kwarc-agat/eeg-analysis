{
  "nbformat": 4,
  "nbformat_minor": 0,
  "metadata": {
    "colab": {
      "name": "TraditionalClassifiers-MEdataset.ipynb",
      "provenance": [],
      "collapsed_sections": [],
      "mount_file_id": "1CnC7OKb0cexXW3VYbtJ1w5AQiWUXv45d",
      "authorship_tag": "ABX9TyM25De9YiGgVKqdz3mJw5Gy"
    },
    "kernelspec": {
      "name": "python3",
      "display_name": "Python 3"
    },
    "language_info": {
      "name": "python"
    }
  },
  "cells": [
    {
      "cell_type": "code",
      "metadata": {
        "id": "HTdiEKHTfrSV"
      },
      "source": [
        "import pandas as pd\n",
        "import numpy as np\n",
        "import matplotlib.pyplot as plt\n",
        "import seaborn as sns\n",
        "import os\n",
        "import pickle\n",
        "from math import ceil\n",
        "import scipy\n",
        "\n",
        "from sklearn.pipeline import make_pipeline, Pipeline\n",
        "from sklearn.model_selection import train_test_split, cross_val_score, StratifiedShuffleSplit, GridSearchCV\n",
        "from sklearn.preprocessing import Normalizer, StandardScaler, MinMaxScaler\n",
        "from sklearn.metrics import confusion_matrix, accuracy_score, classification_report\n",
        "from sklearn.svm import SVC\n",
        "from sklearn.neighbors import KNeighborsClassifier\n",
        "from sklearn.tree import DecisionTreeClassifier\n",
        "from sklearn.model_selection import RandomizedSearchCV\n",
        "from sklearn.base import clone"
      ],
      "execution_count": 93,
      "outputs": []
    },
    {
      "cell_type": "markdown",
      "metadata": {
        "id": "YijwvBdf0i4b"
      },
      "source": [
        "# Helper methods"
      ]
    },
    {
      "cell_type": "code",
      "metadata": {
        "id": "iZjDMVkZ7_yZ"
      },
      "source": [
        "happiness_dir_name = 'happiness'\n",
        "holocaust_dir_name = 'holocaust'\n",
        "horror_dir_name = 'horror'\n",
        "nature_dir_name = 'nature'\n",
        "plank_dir_name = 'plank'\n",
        "relax_dir_name = 'relax'\n",
        "rest_dir_name = 'rest'\n",
        "rollercoaster_dir_name = 'rollercoaster'"
      ],
      "execution_count": 94,
      "outputs": []
    },
    {
      "cell_type": "code",
      "metadata": {
        "id": "82yCLnQyz5HI"
      },
      "source": [
        "def balanced_subsample(x,y,subsample_size=1.0):\n",
        "\n",
        "    class_xs = []\n",
        "    min_elems = None\n",
        "\n",
        "    for yi in np.unique(y):\n",
        "        elems = x[(y == yi)]\n",
        "        class_xs.append((yi, elems))\n",
        "        if min_elems == None or elems.shape[0] < min_elems:\n",
        "            min_elems = elems.shape[0]\n",
        "\n",
        "    use_elems = min_elems\n",
        "    if subsample_size < 1:\n",
        "        use_elems = int(min_elems*subsample_size)\n",
        "\n",
        "    xs = []\n",
        "    ys = []\n",
        "\n",
        "    for ci,this_xs in class_xs:\n",
        "        if len(this_xs) > use_elems:\n",
        "            np.random.shuffle(this_xs)\n",
        "\n",
        "        x_ = this_xs[:use_elems]\n",
        "        y_ = np.empty(use_elems)\n",
        "        y_.fill(ci)\n",
        "\n",
        "        xs.append(x_)\n",
        "        ys.append(y_)\n",
        "\n",
        "    xs = np.concatenate(xs)\n",
        "    ys = np.concatenate(ys)\n",
        "\n",
        "    return xs,ys"
      ],
      "execution_count": 95,
      "outputs": []
    },
    {
      "cell_type": "code",
      "metadata": {
        "id": "I2CV2WVv49RY"
      },
      "source": [
        "def cherchez(estimator, param_grid, search, x_train, y_train, folds):\n",
        "  if search==\"random\":\n",
        "    clf = RandomizedSearchCV(\n",
        "                estimator=estimator,\n",
        "                param_distributions=param_grid,\n",
        "                n_iter=10,\n",
        "                n_jobs=-1,\n",
        "                cv=folds,\n",
        "                verbose=2,\n",
        "                random_state=1,\n",
        "                return_train_score=True\n",
        "            )\n",
        "  elif search == \"grid\":\n",
        "    clf = GridSearchCV(\n",
        "                estimator=estimator,\n",
        "                param_grid=param_grid,\n",
        "                n_jobs=-1,\n",
        "                cv=folds,\n",
        "                verbose=2,\n",
        "                return_train_score=True\n",
        "            )\n",
        "  else:\n",
        "    raise ValueError(\"Random or grid search?\")\n",
        "    return 0\n",
        "        \n",
        "    # Fit the model\n",
        "  clf.fit(X=x_train, y=y_train)\n",
        "    \n",
        "  return clf  "
      ],
      "execution_count": 96,
      "outputs": []
    },
    {
      "cell_type": "code",
      "metadata": {
        "id": "f26Uoja4mSgX"
      },
      "source": [
        "def convolve_filter(X_arr, filter_size=10):\n",
        "  for i in range(X_arr.shape[1]):\n",
        "    X_arr[:, i] = np.convolve(X_arr[:,i], np.ones(filter_size), 'same') / filter_size\n",
        "  # X_arr = X_arr/10**6\n",
        "  return X_arr"
      ],
      "execution_count": 97,
      "outputs": []
    },
    {
      "cell_type": "markdown",
      "metadata": {
        "id": "es0Btzip0mK7"
      },
      "source": [
        "# Process input"
      ]
    },
    {
      "cell_type": "code",
      "source": [
        "CONVOLUTION_FILTER_SIZE = 15"
      ],
      "metadata": {
        "id": "_19kJEl0DtHd"
      },
      "execution_count": 98,
      "outputs": []
    },
    {
      "cell_type": "code",
      "metadata": {
        "id": "XUEdRlxBxAW3",
        "colab": {
          "base_uri": "https://localhost:8080/",
          "height": 423
        },
        "outputId": "de340f47-c3da-4218-dbb9-f1cdab349047"
      },
      "source": [
        "# data loading\n",
        "df_time = pd.read_csv('MEdataset_traditionalClassifiers.csv')\n",
        "df_time = df_time.drop(['Unnamed: 0'], axis=1)\n",
        "df_time"
      ],
      "execution_count": 99,
      "outputs": [
        {
          "output_type": "execute_result",
          "data": {
            "text/html": [
              "\n",
              "  <div id=\"df-e1438d9f-5195-4882-a69e-eae6b20cf850\">\n",
              "    <div class=\"colab-df-container\">\n",
              "      <div>\n",
              "<style scoped>\n",
              "    .dataframe tbody tr th:only-of-type {\n",
              "        vertical-align: middle;\n",
              "    }\n",
              "\n",
              "    .dataframe tbody tr th {\n",
              "        vertical-align: top;\n",
              "    }\n",
              "\n",
              "    .dataframe thead th {\n",
              "        text-align: right;\n",
              "    }\n",
              "</style>\n",
              "<table border=\"1\" class=\"dataframe\">\n",
              "  <thead>\n",
              "    <tr style=\"text-align: right;\">\n",
              "      <th></th>\n",
              "      <th>delta</th>\n",
              "      <th>theta</th>\n",
              "      <th>lowAlpha</th>\n",
              "      <th>highAlpha</th>\n",
              "      <th>lowBeta</th>\n",
              "      <th>highBeta</th>\n",
              "      <th>lowGamma</th>\n",
              "      <th>highGamma</th>\n",
              "      <th>label</th>\n",
              "    </tr>\n",
              "  </thead>\n",
              "  <tbody>\n",
              "    <tr>\n",
              "      <th>0</th>\n",
              "      <td>0.186188</td>\n",
              "      <td>0.035327</td>\n",
              "      <td>0.008678</td>\n",
              "      <td>0.019436</td>\n",
              "      <td>0.012044</td>\n",
              "      <td>0.008582</td>\n",
              "      <td>0.005851</td>\n",
              "      <td>0.004385</td>\n",
              "      <td>happiness</td>\n",
              "    </tr>\n",
              "    <tr>\n",
              "      <th>1</th>\n",
              "      <td>0.249095</td>\n",
              "      <td>0.052902</td>\n",
              "      <td>0.012438</td>\n",
              "      <td>0.020675</td>\n",
              "      <td>0.012932</td>\n",
              "      <td>0.009894</td>\n",
              "      <td>0.006477</td>\n",
              "      <td>0.004649</td>\n",
              "      <td>happiness</td>\n",
              "    </tr>\n",
              "    <tr>\n",
              "      <th>2</th>\n",
              "      <td>0.318001</td>\n",
              "      <td>0.056180</td>\n",
              "      <td>0.012778</td>\n",
              "      <td>0.020908</td>\n",
              "      <td>0.013623</td>\n",
              "      <td>0.010612</td>\n",
              "      <td>0.006561</td>\n",
              "      <td>0.004672</td>\n",
              "      <td>happiness</td>\n",
              "    </tr>\n",
              "    <tr>\n",
              "      <th>3</th>\n",
              "      <td>0.383998</td>\n",
              "      <td>0.062920</td>\n",
              "      <td>0.018410</td>\n",
              "      <td>0.021940</td>\n",
              "      <td>0.014660</td>\n",
              "      <td>0.010950</td>\n",
              "      <td>0.006762</td>\n",
              "      <td>0.004787</td>\n",
              "      <td>happiness</td>\n",
              "    </tr>\n",
              "    <tr>\n",
              "      <th>4</th>\n",
              "      <td>0.498938</td>\n",
              "      <td>0.065180</td>\n",
              "      <td>0.019788</td>\n",
              "      <td>0.022802</td>\n",
              "      <td>0.017354</td>\n",
              "      <td>0.012368</td>\n",
              "      <td>0.007395</td>\n",
              "      <td>0.004895</td>\n",
              "      <td>happiness</td>\n",
              "    </tr>\n",
              "    <tr>\n",
              "      <th>...</th>\n",
              "      <td>...</td>\n",
              "      <td>...</td>\n",
              "      <td>...</td>\n",
              "      <td>...</td>\n",
              "      <td>...</td>\n",
              "      <td>...</td>\n",
              "      <td>...</td>\n",
              "      <td>...</td>\n",
              "      <td>...</td>\n",
              "    </tr>\n",
              "    <tr>\n",
              "      <th>21607</th>\n",
              "      <td>1.397923</td>\n",
              "      <td>0.288205</td>\n",
              "      <td>0.090126</td>\n",
              "      <td>0.060092</td>\n",
              "      <td>0.074694</td>\n",
              "      <td>0.043253</td>\n",
              "      <td>0.059317</td>\n",
              "      <td>0.020761</td>\n",
              "      <td>rollercoaster</td>\n",
              "    </tr>\n",
              "    <tr>\n",
              "      <th>21608</th>\n",
              "      <td>1.236768</td>\n",
              "      <td>0.254862</td>\n",
              "      <td>0.048056</td>\n",
              "      <td>0.038609</td>\n",
              "      <td>0.021826</td>\n",
              "      <td>0.032543</td>\n",
              "      <td>0.050653</td>\n",
              "      <td>0.013683</td>\n",
              "      <td>rollercoaster</td>\n",
              "    </tr>\n",
              "    <tr>\n",
              "      <th>21609</th>\n",
              "      <td>0.933506</td>\n",
              "      <td>0.205315</td>\n",
              "      <td>0.038986</td>\n",
              "      <td>0.026887</td>\n",
              "      <td>0.014375</td>\n",
              "      <td>0.025006</td>\n",
              "      <td>0.036829</td>\n",
              "      <td>0.008533</td>\n",
              "      <td>rollercoaster</td>\n",
              "    </tr>\n",
              "    <tr>\n",
              "      <th>21610</th>\n",
              "      <td>0.834086</td>\n",
              "      <td>0.185413</td>\n",
              "      <td>0.036705</td>\n",
              "      <td>0.025343</td>\n",
              "      <td>0.012945</td>\n",
              "      <td>0.023059</td>\n",
              "      <td>0.035161</td>\n",
              "      <td>0.007757</td>\n",
              "      <td>rollercoaster</td>\n",
              "    </tr>\n",
              "    <tr>\n",
              "      <th>21611</th>\n",
              "      <td>0.751567</td>\n",
              "      <td>0.171464</td>\n",
              "      <td>0.035567</td>\n",
              "      <td>0.024660</td>\n",
              "      <td>0.012103</td>\n",
              "      <td>0.021195</td>\n",
              "      <td>0.033932</td>\n",
              "      <td>0.007500</td>\n",
              "      <td>rollercoaster</td>\n",
              "    </tr>\n",
              "  </tbody>\n",
              "</table>\n",
              "<p>21612 rows × 9 columns</p>\n",
              "</div>\n",
              "      <button class=\"colab-df-convert\" onclick=\"convertToInteractive('df-e1438d9f-5195-4882-a69e-eae6b20cf850')\"\n",
              "              title=\"Convert this dataframe to an interactive table.\"\n",
              "              style=\"display:none;\">\n",
              "        \n",
              "  <svg xmlns=\"http://www.w3.org/2000/svg\" height=\"24px\"viewBox=\"0 0 24 24\"\n",
              "       width=\"24px\">\n",
              "    <path d=\"M0 0h24v24H0V0z\" fill=\"none\"/>\n",
              "    <path d=\"M18.56 5.44l.94 2.06.94-2.06 2.06-.94-2.06-.94-.94-2.06-.94 2.06-2.06.94zm-11 1L8.5 8.5l.94-2.06 2.06-.94-2.06-.94L8.5 2.5l-.94 2.06-2.06.94zm10 10l.94 2.06.94-2.06 2.06-.94-2.06-.94-.94-2.06-.94 2.06-2.06.94z\"/><path d=\"M17.41 7.96l-1.37-1.37c-.4-.4-.92-.59-1.43-.59-.52 0-1.04.2-1.43.59L10.3 9.45l-7.72 7.72c-.78.78-.78 2.05 0 2.83L4 21.41c.39.39.9.59 1.41.59.51 0 1.02-.2 1.41-.59l7.78-7.78 2.81-2.81c.8-.78.8-2.07 0-2.86zM5.41 20L4 18.59l7.72-7.72 1.47 1.35L5.41 20z\"/>\n",
              "  </svg>\n",
              "      </button>\n",
              "      \n",
              "  <style>\n",
              "    .colab-df-container {\n",
              "      display:flex;\n",
              "      flex-wrap:wrap;\n",
              "      gap: 12px;\n",
              "    }\n",
              "\n",
              "    .colab-df-convert {\n",
              "      background-color: #E8F0FE;\n",
              "      border: none;\n",
              "      border-radius: 50%;\n",
              "      cursor: pointer;\n",
              "      display: none;\n",
              "      fill: #1967D2;\n",
              "      height: 32px;\n",
              "      padding: 0 0 0 0;\n",
              "      width: 32px;\n",
              "    }\n",
              "\n",
              "    .colab-df-convert:hover {\n",
              "      background-color: #E2EBFA;\n",
              "      box-shadow: 0px 1px 2px rgba(60, 64, 67, 0.3), 0px 1px 3px 1px rgba(60, 64, 67, 0.15);\n",
              "      fill: #174EA6;\n",
              "    }\n",
              "\n",
              "    [theme=dark] .colab-df-convert {\n",
              "      background-color: #3B4455;\n",
              "      fill: #D2E3FC;\n",
              "    }\n",
              "\n",
              "    [theme=dark] .colab-df-convert:hover {\n",
              "      background-color: #434B5C;\n",
              "      box-shadow: 0px 1px 3px 1px rgba(0, 0, 0, 0.15);\n",
              "      filter: drop-shadow(0px 1px 2px rgba(0, 0, 0, 0.3));\n",
              "      fill: #FFFFFF;\n",
              "    }\n",
              "  </style>\n",
              "\n",
              "      <script>\n",
              "        const buttonEl =\n",
              "          document.querySelector('#df-e1438d9f-5195-4882-a69e-eae6b20cf850 button.colab-df-convert');\n",
              "        buttonEl.style.display =\n",
              "          google.colab.kernel.accessAllowed ? 'block' : 'none';\n",
              "\n",
              "        async function convertToInteractive(key) {\n",
              "          const element = document.querySelector('#df-e1438d9f-5195-4882-a69e-eae6b20cf850');\n",
              "          const dataTable =\n",
              "            await google.colab.kernel.invokeFunction('convertToInteractive',\n",
              "                                                     [key], {});\n",
              "          if (!dataTable) return;\n",
              "\n",
              "          const docLinkHtml = 'Like what you see? Visit the ' +\n",
              "            '<a target=\"_blank\" href=https://colab.research.google.com/notebooks/data_table.ipynb>data table notebook</a>'\n",
              "            + ' to learn more about interactive tables.';\n",
              "          element.innerHTML = '';\n",
              "          dataTable['output_type'] = 'display_data';\n",
              "          await google.colab.output.renderOutput(dataTable, element);\n",
              "          const docLink = document.createElement('div');\n",
              "          docLink.innerHTML = docLinkHtml;\n",
              "          element.appendChild(docLink);\n",
              "        }\n",
              "      </script>\n",
              "    </div>\n",
              "  </div>\n",
              "  "
            ],
            "text/plain": [
              "          delta     theta  lowAlpha  ...  lowGamma  highGamma          label\n",
              "0      0.186188  0.035327  0.008678  ...  0.005851   0.004385      happiness\n",
              "1      0.249095  0.052902  0.012438  ...  0.006477   0.004649      happiness\n",
              "2      0.318001  0.056180  0.012778  ...  0.006561   0.004672      happiness\n",
              "3      0.383998  0.062920  0.018410  ...  0.006762   0.004787      happiness\n",
              "4      0.498938  0.065180  0.019788  ...  0.007395   0.004895      happiness\n",
              "...         ...       ...       ...  ...       ...        ...            ...\n",
              "21607  1.397923  0.288205  0.090126  ...  0.059317   0.020761  rollercoaster\n",
              "21608  1.236768  0.254862  0.048056  ...  0.050653   0.013683  rollercoaster\n",
              "21609  0.933506  0.205315  0.038986  ...  0.036829   0.008533  rollercoaster\n",
              "21610  0.834086  0.185413  0.036705  ...  0.035161   0.007757  rollercoaster\n",
              "21611  0.751567  0.171464  0.035567  ...  0.033932   0.007500  rollercoaster\n",
              "\n",
              "[21612 rows x 9 columns]"
            ]
          },
          "metadata": {},
          "execution_count": 99
        }
      ]
    },
    {
      "cell_type": "code",
      "source": [
        "# split to X-input, y-output\n",
        "X = df_time.drop(['label'], axis=1)\n",
        "y = df_time['label']"
      ],
      "metadata": {
        "id": "rrk2tCxrDXaS"
      },
      "execution_count": 100,
      "outputs": []
    },
    {
      "cell_type": "code",
      "metadata": {
        "id": "wsRkaYZ6SZtU"
      },
      "source": [
        "# data smoothing, scaling\n",
        "X_arr = X.to_numpy()\n",
        "X_arr_proc = convolve_filter(X_arr, filter_size=CONVOLUTION_FILTER_SIZE)"
      ],
      "execution_count": 101,
      "outputs": []
    },
    {
      "cell_type": "code",
      "metadata": {
        "id": "nWzwq4eTyL3r",
        "colab": {
          "base_uri": "https://localhost:8080/"
        },
        "outputId": "c053f2df-d288-4b56-8c48-4176156defa5"
      },
      "source": [
        "# labels mapping words to numbers\n",
        "labels_mapping = {\n",
        "                  happiness_dir_name: 0, \n",
        "                  holocaust_dir_name: 1, \n",
        "                  horror_dir_name: 2, \n",
        "                  plank_dir_name: 3, \n",
        "                  relax_dir_name: 4, \n",
        "                  rest_dir_name: 5, \n",
        "                  rollercoaster_dir_name: 6, \n",
        "                  nature_dir_name: 7\n",
        "                }\n",
        "y_mapped = y.replace(labels_mapping)\n",
        "y_mapped = y_mapped.to_numpy()\n",
        "print(f\"8 class labels: {np.unique(y_mapped, return_counts=True)}\")\n",
        "\n",
        "labels_mapping_binary = {\n",
        "                  happiness_dir_name: 1, #0\n",
        "                  horror_dir_name: 1, #2\n",
        "                  plank_dir_name: 1,  #3\n",
        "                  rollercoaster_dir_name: 1,  #6\n",
        "\n",
        "                  holocaust_dir_name: 0,  #1\n",
        "                  relax_dir_name: 0,  #4 \n",
        "                  rest_dir_name: 0, #5\n",
        "                  nature_dir_name: 0  #7\n",
        "                }\n",
        "y_binary = y.replace(labels_mapping_binary)\n",
        "y_binary = y_binary.to_numpy()\n",
        "print(f\"binary labels: {np.unique(y_binary, return_counts=True)}\")"
      ],
      "execution_count": 102,
      "outputs": [
        {
          "output_type": "stream",
          "name": "stdout",
          "text": [
            "8 class labels: (array([0, 1, 2, 3, 4, 5, 6, 7]), array([3551, 2467, 2524, 3051, 2376, 2178, 1955, 3510]))\n",
            "binary labels: (array([0, 1]), array([10531, 11081]))\n"
          ]
        }
      ]
    },
    {
      "cell_type": "code",
      "metadata": {
        "colab": {
          "base_uri": "https://localhost:8080/",
          "height": 441
        },
        "id": "iJtcaXBXPPCJ",
        "outputId": "cc2fcd9d-2fcb-46c7-b0b1-ef38a7ae6be2"
      },
      "source": [
        "# update dataframe and reduce number of classes\n",
        "df_time_proc = pd.DataFrame(data=X_arr_proc, columns=df_time.drop(['label'], axis=1).columns)\n",
        "df_time['label_binary'] = df_time['label'].replace(labels_mapping_binary)\n",
        "df_time['label_8class'] = df_time['label'].replace(labels_mapping)\n",
        "\n",
        "df_time_proc['label_binary'] = df_time['label_binary']\n",
        "df_time_proc['label_8class'] = df_time['label_8class']\n",
        "\n",
        "df_time_proc_smaller = df_time_proc[\n",
        "                                    (df_time_proc['label_8class']!=3) & \n",
        "                                    (df_time_proc['label_8class']!=5) & \n",
        "                                    (df_time_proc['label_8class']!=6) & \n",
        "                                    (df_time_proc['label_8class']!=7)]\n",
        "df_time_proc_smaller.reset_index(drop=True, inplace=True)\n",
        "X_arr_proc = X_arr_proc[(y_mapped != 3) & (y_mapped != 5) & (y_mapped != 6) & (y_mapped != 7)]\n",
        "y_binary = y_binary[(y_mapped != 3) & (y_mapped != 5) & (y_mapped != 6) & (y_mapped != 7)]\n",
        "print(f\"X: {len(X_arr_proc)}, y: {len(y_binary)}\")\n",
        "df_time_proc_smaller"
      ],
      "execution_count": 103,
      "outputs": [
        {
          "output_type": "stream",
          "name": "stdout",
          "text": [
            "X: 10918, y: 10918\n"
          ]
        },
        {
          "output_type": "execute_result",
          "data": {
            "text/html": [
              "\n",
              "  <div id=\"df-12e96286-e2c4-40c6-a1dc-f8e7769fe2b6\">\n",
              "    <div class=\"colab-df-container\">\n",
              "      <div>\n",
              "<style scoped>\n",
              "    .dataframe tbody tr th:only-of-type {\n",
              "        vertical-align: middle;\n",
              "    }\n",
              "\n",
              "    .dataframe tbody tr th {\n",
              "        vertical-align: top;\n",
              "    }\n",
              "\n",
              "    .dataframe thead th {\n",
              "        text-align: right;\n",
              "    }\n",
              "</style>\n",
              "<table border=\"1\" class=\"dataframe\">\n",
              "  <thead>\n",
              "    <tr style=\"text-align: right;\">\n",
              "      <th></th>\n",
              "      <th>delta</th>\n",
              "      <th>theta</th>\n",
              "      <th>lowAlpha</th>\n",
              "      <th>highAlpha</th>\n",
              "      <th>lowBeta</th>\n",
              "      <th>highBeta</th>\n",
              "      <th>lowGamma</th>\n",
              "      <th>highGamma</th>\n",
              "      <th>label_binary</th>\n",
              "      <th>label_8class</th>\n",
              "    </tr>\n",
              "  </thead>\n",
              "  <tbody>\n",
              "    <tr>\n",
              "      <th>0</th>\n",
              "      <td>0.211987</td>\n",
              "      <td>0.030380</td>\n",
              "      <td>0.008651</td>\n",
              "      <td>0.011633</td>\n",
              "      <td>0.007956</td>\n",
              "      <td>0.005809</td>\n",
              "      <td>0.003514</td>\n",
              "      <td>0.002421</td>\n",
              "      <td>1</td>\n",
              "      <td>0</td>\n",
              "    </tr>\n",
              "    <tr>\n",
              "      <th>1</th>\n",
              "      <td>0.244752</td>\n",
              "      <td>0.034697</td>\n",
              "      <td>0.010143</td>\n",
              "      <td>0.012968</td>\n",
              "      <td>0.008808</td>\n",
              "      <td>0.006882</td>\n",
              "      <td>0.003930</td>\n",
              "      <td>0.002600</td>\n",
              "      <td>1</td>\n",
              "      <td>0</td>\n",
              "    </tr>\n",
              "    <tr>\n",
              "      <th>2</th>\n",
              "      <td>0.287725</td>\n",
              "      <td>0.040103</td>\n",
              "      <td>0.011774</td>\n",
              "      <td>0.014431</td>\n",
              "      <td>0.012449</td>\n",
              "      <td>0.009104</td>\n",
              "      <td>0.004351</td>\n",
              "      <td>0.002949</td>\n",
              "      <td>1</td>\n",
              "      <td>0</td>\n",
              "    </tr>\n",
              "    <tr>\n",
              "      <th>3</th>\n",
              "      <td>0.336099</td>\n",
              "      <td>0.046753</td>\n",
              "      <td>0.013971</td>\n",
              "      <td>0.016310</td>\n",
              "      <td>0.016598</td>\n",
              "      <td>0.011647</td>\n",
              "      <td>0.004796</td>\n",
              "      <td>0.003227</td>\n",
              "      <td>1</td>\n",
              "      <td>0</td>\n",
              "    </tr>\n",
              "    <tr>\n",
              "      <th>4</th>\n",
              "      <td>0.382594</td>\n",
              "      <td>0.053203</td>\n",
              "      <td>0.015963</td>\n",
              "      <td>0.018336</td>\n",
              "      <td>0.021293</td>\n",
              "      <td>0.014148</td>\n",
              "      <td>0.005233</td>\n",
              "      <td>0.003494</td>\n",
              "      <td>1</td>\n",
              "      <td>0</td>\n",
              "    </tr>\n",
              "    <tr>\n",
              "      <th>...</th>\n",
              "      <td>...</td>\n",
              "      <td>...</td>\n",
              "      <td>...</td>\n",
              "      <td>...</td>\n",
              "      <td>...</td>\n",
              "      <td>...</td>\n",
              "      <td>...</td>\n",
              "      <td>...</td>\n",
              "      <td>...</td>\n",
              "      <td>...</td>\n",
              "    </tr>\n",
              "    <tr>\n",
              "      <th>10913</th>\n",
              "      <td>0.686399</td>\n",
              "      <td>0.277750</td>\n",
              "      <td>0.065933</td>\n",
              "      <td>0.056277</td>\n",
              "      <td>0.034375</td>\n",
              "      <td>0.036761</td>\n",
              "      <td>0.046268</td>\n",
              "      <td>0.017782</td>\n",
              "      <td>0</td>\n",
              "      <td>4</td>\n",
              "    </tr>\n",
              "    <tr>\n",
              "      <th>10914</th>\n",
              "      <td>0.642010</td>\n",
              "      <td>0.237810</td>\n",
              "      <td>0.058172</td>\n",
              "      <td>0.050454</td>\n",
              "      <td>0.031627</td>\n",
              "      <td>0.033588</td>\n",
              "      <td>0.040694</td>\n",
              "      <td>0.015936</td>\n",
              "      <td>0</td>\n",
              "      <td>4</td>\n",
              "    </tr>\n",
              "    <tr>\n",
              "      <th>10915</th>\n",
              "      <td>0.603970</td>\n",
              "      <td>0.209367</td>\n",
              "      <td>0.052590</td>\n",
              "      <td>0.045573</td>\n",
              "      <td>0.029197</td>\n",
              "      <td>0.030488</td>\n",
              "      <td>0.035300</td>\n",
              "      <td>0.014507</td>\n",
              "      <td>0</td>\n",
              "      <td>4</td>\n",
              "    </tr>\n",
              "    <tr>\n",
              "      <th>10916</th>\n",
              "      <td>0.566349</td>\n",
              "      <td>0.180999</td>\n",
              "      <td>0.047119</td>\n",
              "      <td>0.040663</td>\n",
              "      <td>0.026807</td>\n",
              "      <td>0.027547</td>\n",
              "      <td>0.029951</td>\n",
              "      <td>0.013059</td>\n",
              "      <td>0</td>\n",
              "      <td>4</td>\n",
              "    </tr>\n",
              "    <tr>\n",
              "      <th>10917</th>\n",
              "      <td>0.527706</td>\n",
              "      <td>0.154774</td>\n",
              "      <td>0.042588</td>\n",
              "      <td>0.035721</td>\n",
              "      <td>0.024567</td>\n",
              "      <td>0.024925</td>\n",
              "      <td>0.025303</td>\n",
              "      <td>0.011526</td>\n",
              "      <td>0</td>\n",
              "      <td>4</td>\n",
              "    </tr>\n",
              "  </tbody>\n",
              "</table>\n",
              "<p>10918 rows × 10 columns</p>\n",
              "</div>\n",
              "      <button class=\"colab-df-convert\" onclick=\"convertToInteractive('df-12e96286-e2c4-40c6-a1dc-f8e7769fe2b6')\"\n",
              "              title=\"Convert this dataframe to an interactive table.\"\n",
              "              style=\"display:none;\">\n",
              "        \n",
              "  <svg xmlns=\"http://www.w3.org/2000/svg\" height=\"24px\"viewBox=\"0 0 24 24\"\n",
              "       width=\"24px\">\n",
              "    <path d=\"M0 0h24v24H0V0z\" fill=\"none\"/>\n",
              "    <path d=\"M18.56 5.44l.94 2.06.94-2.06 2.06-.94-2.06-.94-.94-2.06-.94 2.06-2.06.94zm-11 1L8.5 8.5l.94-2.06 2.06-.94-2.06-.94L8.5 2.5l-.94 2.06-2.06.94zm10 10l.94 2.06.94-2.06 2.06-.94-2.06-.94-.94-2.06-.94 2.06-2.06.94z\"/><path d=\"M17.41 7.96l-1.37-1.37c-.4-.4-.92-.59-1.43-.59-.52 0-1.04.2-1.43.59L10.3 9.45l-7.72 7.72c-.78.78-.78 2.05 0 2.83L4 21.41c.39.39.9.59 1.41.59.51 0 1.02-.2 1.41-.59l7.78-7.78 2.81-2.81c.8-.78.8-2.07 0-2.86zM5.41 20L4 18.59l7.72-7.72 1.47 1.35L5.41 20z\"/>\n",
              "  </svg>\n",
              "      </button>\n",
              "      \n",
              "  <style>\n",
              "    .colab-df-container {\n",
              "      display:flex;\n",
              "      flex-wrap:wrap;\n",
              "      gap: 12px;\n",
              "    }\n",
              "\n",
              "    .colab-df-convert {\n",
              "      background-color: #E8F0FE;\n",
              "      border: none;\n",
              "      border-radius: 50%;\n",
              "      cursor: pointer;\n",
              "      display: none;\n",
              "      fill: #1967D2;\n",
              "      height: 32px;\n",
              "      padding: 0 0 0 0;\n",
              "      width: 32px;\n",
              "    }\n",
              "\n",
              "    .colab-df-convert:hover {\n",
              "      background-color: #E2EBFA;\n",
              "      box-shadow: 0px 1px 2px rgba(60, 64, 67, 0.3), 0px 1px 3px 1px rgba(60, 64, 67, 0.15);\n",
              "      fill: #174EA6;\n",
              "    }\n",
              "\n",
              "    [theme=dark] .colab-df-convert {\n",
              "      background-color: #3B4455;\n",
              "      fill: #D2E3FC;\n",
              "    }\n",
              "\n",
              "    [theme=dark] .colab-df-convert:hover {\n",
              "      background-color: #434B5C;\n",
              "      box-shadow: 0px 1px 3px 1px rgba(0, 0, 0, 0.15);\n",
              "      filter: drop-shadow(0px 1px 2px rgba(0, 0, 0, 0.3));\n",
              "      fill: #FFFFFF;\n",
              "    }\n",
              "  </style>\n",
              "\n",
              "      <script>\n",
              "        const buttonEl =\n",
              "          document.querySelector('#df-12e96286-e2c4-40c6-a1dc-f8e7769fe2b6 button.colab-df-convert');\n",
              "        buttonEl.style.display =\n",
              "          google.colab.kernel.accessAllowed ? 'block' : 'none';\n",
              "\n",
              "        async function convertToInteractive(key) {\n",
              "          const element = document.querySelector('#df-12e96286-e2c4-40c6-a1dc-f8e7769fe2b6');\n",
              "          const dataTable =\n",
              "            await google.colab.kernel.invokeFunction('convertToInteractive',\n",
              "                                                     [key], {});\n",
              "          if (!dataTable) return;\n",
              "\n",
              "          const docLinkHtml = 'Like what you see? Visit the ' +\n",
              "            '<a target=\"_blank\" href=https://colab.research.google.com/notebooks/data_table.ipynb>data table notebook</a>'\n",
              "            + ' to learn more about interactive tables.';\n",
              "          element.innerHTML = '';\n",
              "          dataTable['output_type'] = 'display_data';\n",
              "          await google.colab.output.renderOutput(dataTable, element);\n",
              "          const docLink = document.createElement('div');\n",
              "          docLink.innerHTML = docLinkHtml;\n",
              "          element.appendChild(docLink);\n",
              "        }\n",
              "      </script>\n",
              "    </div>\n",
              "  </div>\n",
              "  "
            ],
            "text/plain": [
              "          delta     theta  lowAlpha  ...  highGamma  label_binary  label_8class\n",
              "0      0.211987  0.030380  0.008651  ...   0.002421             1             0\n",
              "1      0.244752  0.034697  0.010143  ...   0.002600             1             0\n",
              "2      0.287725  0.040103  0.011774  ...   0.002949             1             0\n",
              "3      0.336099  0.046753  0.013971  ...   0.003227             1             0\n",
              "4      0.382594  0.053203  0.015963  ...   0.003494             1             0\n",
              "...         ...       ...       ...  ...        ...           ...           ...\n",
              "10913  0.686399  0.277750  0.065933  ...   0.017782             0             4\n",
              "10914  0.642010  0.237810  0.058172  ...   0.015936             0             4\n",
              "10915  0.603970  0.209367  0.052590  ...   0.014507             0             4\n",
              "10916  0.566349  0.180999  0.047119  ...   0.013059             0             4\n",
              "10917  0.527706  0.154774  0.042588  ...   0.011526             0             4\n",
              "\n",
              "[10918 rows x 10 columns]"
            ]
          },
          "metadata": {},
          "execution_count": 103
        }
      ]
    },
    {
      "cell_type": "code",
      "metadata": {
        "colab": {
          "base_uri": "https://localhost:8080/"
        },
        "id": "2Xx5fXrATp2g",
        "outputId": "69584bb9-8635-4a41-90b8-3939b2732ad5"
      },
      "source": [
        "df_time_proc_smaller['label_8class'].value_counts()"
      ],
      "execution_count": 104,
      "outputs": [
        {
          "output_type": "execute_result",
          "data": {
            "text/plain": [
              "0    3551\n",
              "2    2524\n",
              "1    2467\n",
              "4    2376\n",
              "Name: label_8class, dtype: int64"
            ]
          },
          "metadata": {},
          "execution_count": 104
        }
      ]
    },
    {
      "cell_type": "code",
      "metadata": {
        "colab": {
          "base_uri": "https://localhost:8080/"
        },
        "id": "5OHm097lAI9j",
        "outputId": "af2880c5-0a61-41fc-af37-80f7f48c7d6b"
      },
      "source": [
        "np.unique(y_binary, return_counts=True)"
      ],
      "execution_count": 105,
      "outputs": [
        {
          "output_type": "execute_result",
          "data": {
            "text/plain": [
              "(array([0, 1]), array([4843, 6075]))"
            ]
          },
          "metadata": {},
          "execution_count": 105
        }
      ]
    },
    {
      "cell_type": "code",
      "metadata": {
        "colab": {
          "base_uri": "https://localhost:8080/"
        },
        "id": "lMw9XXPF0Hhz",
        "outputId": "818ad5be-5ef2-46b5-bb04-cde4246ac4a4"
      },
      "source": [
        "# subsample to have equal number of samples in each class\n",
        "X_arr_proc_sub, y_binary_sub = balanced_subsample(X_arr_proc, y_binary)\n",
        "print(f\"Each class number: {np.unique(y_binary_sub, return_counts=True)}\")\n",
        "print(f\"Total samples: {len(X_arr_proc_sub)}\")"
      ],
      "execution_count": 106,
      "outputs": [
        {
          "output_type": "stream",
          "name": "stdout",
          "text": [
            "Each class number: (array([0., 1.]), array([4843, 4843]))\n",
            "Total samples: 9686\n"
          ]
        }
      ]
    },
    {
      "cell_type": "code",
      "metadata": {
        "colab": {
          "base_uri": "https://localhost:8080/"
        },
        "id": "Xe-MQrYzLBEP",
        "outputId": "7e6f811d-ba2f-4901-e227-9dfe1a8f1520"
      },
      "source": [
        "# split this to balanced training/test sets, and get indexes of chosen samples\n",
        "stratSplit = StratifiedShuffleSplit(n_splits=1, test_size=0.2, random_state=0)\n",
        "for train_idx, test_idx in stratSplit.split(X_arr_proc_sub, y_binary_sub):\n",
        "    X_train=X_arr_proc_sub[train_idx]\n",
        "    y_train=y_binary_sub[train_idx]\n",
        "    X_test=X_arr_proc_sub[test_idx]\n",
        "    y_test=y_binary_sub[test_idx]\n",
        "\n",
        "print(f\"X train shape: {X_train.shape}\")\n",
        "print(f\"X test shape: {X_test.shape}\")\n",
        "print(f\"y train: {X_train.shape}   y test: {y_test.shape}\")\n",
        "print(f\"Train balance: {np.unique(y_train, return_counts=True)}\")\n",
        "print(f\"Test balance: {np.unique(y_test, return_counts=True)}\")"
      ],
      "execution_count": 107,
      "outputs": [
        {
          "output_type": "stream",
          "name": "stdout",
          "text": [
            "X train shape: (7748, 8)\n",
            "X test shape: (1938, 8)\n",
            "y train: (7748, 8)   y test: (1938,)\n",
            "Train balance: (array([0., 1.]), array([3874, 3874]))\n",
            "Test balance: (array([0., 1.]), array([969, 969]))\n"
          ]
        }
      ]
    },
    {
      "cell_type": "markdown",
      "metadata": {
        "id": "fuWDc_pGGfUL"
      },
      "source": [
        "# Support Vector Machine"
      ]
    },
    {
      "cell_type": "code",
      "source": [
        "CV_FOLDS = 5"
      ],
      "metadata": {
        "id": "hPPv4rT-IdPx"
      },
      "execution_count": 120,
      "outputs": []
    },
    {
      "cell_type": "code",
      "metadata": {
        "id": "0cs952-hNj-M",
        "colab": {
          "base_uri": "https://localhost:8080/"
        },
        "outputId": "911e972a-6238-42ab-aa5f-bb7252d990d9"
      },
      "source": [
        "svc = SVC(C=1.0, kernel='rbf', degree=3, random_state=0) # basic settings\n",
        "svc.fit(X_train, y_train)\n",
        "cm_svm = confusion_matrix(y_true=y_test, y_pred=svc.predict(X_test))\n",
        "print(classification_report(y_true=y_test, y_pred=svc.predict(X_test)))\n",
        "print(f\"Accuracy score: {accuracy_score(y_test, svc.predict(X_test))}\")"
      ],
      "execution_count": 121,
      "outputs": [
        {
          "output_type": "stream",
          "name": "stdout",
          "text": [
            "              precision    recall  f1-score   support\n",
            "\n",
            "         0.0       0.56      0.68      0.62       969\n",
            "         1.0       0.60      0.47      0.52       969\n",
            "\n",
            "    accuracy                           0.57      1938\n",
            "   macro avg       0.58      0.57      0.57      1938\n",
            "weighted avg       0.58      0.57      0.57      1938\n",
            "\n",
            "Accuracy score: 0.5748194014447885\n"
          ]
        }
      ]
    },
    {
      "cell_type": "code",
      "metadata": {
        "id": "adtYxWEAhgws",
        "colab": {
          "base_uri": "https://localhost:8080/"
        },
        "outputId": "05528f3b-24d6-45bf-b8ab-e92592b924bb"
      },
      "source": [
        "C_range = [pow(10, n) for n in range(-4, 4)]\n",
        "degree_range = [n for n in range(1, 4)]\n",
        "svm_dist = {\n",
        "    \"C\": C_range,\n",
        "    \"kernel\": [\"linear\", \"poly\", \"rbf\", \"sigmoid\"],\n",
        "    \"degree\": degree_range,\n",
        "    \"gamma\": [\"scale\", \"auto\"]\n",
        "}\n",
        "svm_random = cherchez(SVC(), svm_dist, \"random\", X_train, y_train, folds=CV_FOLDS)\n",
        "svm_random.best_estimator_"
      ],
      "execution_count": 122,
      "outputs": [
        {
          "output_type": "stream",
          "name": "stdout",
          "text": [
            "Fitting 5 folds for each of 10 candidates, totalling 50 fits\n"
          ]
        },
        {
          "output_type": "execute_result",
          "data": {
            "text/plain": [
              "SVC(C=10, degree=1)"
            ]
          },
          "metadata": {},
          "execution_count": 122
        }
      ]
    },
    {
      "cell_type": "code",
      "metadata": {
        "id": "pPpdo2-pmHX2",
        "colab": {
          "base_uri": "https://localhost:8080/"
        },
        "outputId": "827b7a9c-a5fd-4473-85ab-d53bb1f1f6cc"
      },
      "source": [
        "acc = accuracy_score(y_true=y_test, y_pred=svm_random.predict(X_test))\n",
        "cm_svm_cv = confusion_matrix(y_true=y_test, y_pred=svm_random.predict(X_test))\n",
        "print(\"**Random search results**\")\n",
        "print(\"Best training accuracy:\\t\", svm_random.best_score_)\n",
        "print(\"Test accuracy:\\t\", acc)"
      ],
      "execution_count": 123,
      "outputs": [
        {
          "output_type": "stream",
          "name": "stdout",
          "text": [
            "**Random search results**\n",
            "Best training accuracy:\t 0.5907330848205918\n",
            "Test accuracy:\t 0.5949432404540763\n"
          ]
        }
      ]
    },
    {
      "cell_type": "markdown",
      "metadata": {
        "id": "8VqmDl3qwFRf"
      },
      "source": [
        "# k-Nearest Neighbours"
      ]
    },
    {
      "cell_type": "code",
      "metadata": {
        "colab": {
          "base_uri": "https://localhost:8080/"
        },
        "id": "s-XECrZwwPO3",
        "outputId": "f9de4b56-8fdb-4dcd-c79b-cd6a83c41d15"
      },
      "source": [
        "knn = KNeighborsClassifier()  # basic settings\n",
        "knn.fit(X_train, y_train)\n",
        "cm_knn = confusion_matrix(y_true=y_test, y_pred=knn.predict(X_test))\n",
        "print(classification_report(y_true=y_test, y_pred=knn.predict(X_test)))\n",
        "print(f\"Accuracy score: {accuracy_score(y_test, knn.predict(X_test))}\")"
      ],
      "execution_count": 110,
      "outputs": [
        {
          "output_type": "stream",
          "name": "stdout",
          "text": [
            "              precision    recall  f1-score   support\n",
            "\n",
            "         0.0       0.75      0.78      0.76       969\n",
            "         1.0       0.77      0.75      0.76       969\n",
            "\n",
            "    accuracy                           0.76      1938\n",
            "   macro avg       0.76      0.76      0.76      1938\n",
            "weighted avg       0.76      0.76      0.76      1938\n",
            "\n",
            "Accuracy score: 0.7610939112487101\n"
          ]
        }
      ]
    },
    {
      "cell_type": "code",
      "metadata": {
        "colab": {
          "base_uri": "https://localhost:8080/"
        },
        "id": "JY29FlvQwPO5",
        "outputId": "fb53de9b-1010-4655-c829-39306ea4e92d"
      },
      "source": [
        "knn_dist = {\n",
        "    \"n_neighbors\": scipy.stats.randint(1,33),\n",
        "    \"weights\": [\"uniform\", \"distance\"],\n",
        "    \"algorithm\": [\"ball_tree\", \"kd_tree\", \"brute\"],\n",
        "    \"leaf_size\": scipy.stats.randint(1,1000),\n",
        "    \"p\": [1,2]\n",
        "}\n",
        "knn_random = cherchez(KNeighborsClassifier(), knn_dist, \"random\", X_train, y_train, folds=CV_FOLDS)\n",
        "knn_random.best_estimator_"
      ],
      "execution_count": 112,
      "outputs": [
        {
          "output_type": "stream",
          "name": "stdout",
          "text": [
            "Fitting 5 folds for each of 10 candidates, totalling 50 fits\n"
          ]
        },
        {
          "output_type": "execute_result",
          "data": {
            "text/plain": [
              "KNeighborsClassifier(algorithm='brute', leaf_size=314, n_neighbors=2, p=1)"
            ]
          },
          "metadata": {},
          "execution_count": 112
        }
      ]
    },
    {
      "cell_type": "code",
      "metadata": {
        "colab": {
          "base_uri": "https://localhost:8080/"
        },
        "id": "lg5UhHwMj6YI",
        "outputId": "7423120b-b17f-4fee-b772-b70eabc76a71"
      },
      "source": [
        "acc = accuracy_score(y_true=y_test, y_pred=knn_random.predict(X_test))\n",
        "cm_knn_cv = confusion_matrix(y_true=y_test, y_pred=knn_random.predict(X_test))\n",
        "print(\"**Random search results**\")\n",
        "print(\"Best training accuracy:\\t\", knn_random.best_score_)\n",
        "print(\"Test accuracy:\\t\", acc)"
      ],
      "execution_count": 113,
      "outputs": [
        {
          "output_type": "stream",
          "name": "stdout",
          "text": [
            "**Random search results**\n",
            "Best training accuracy:\t 0.8162102501093317\n",
            "Test accuracy:\t 0.8219814241486069\n"
          ]
        }
      ]
    },
    {
      "cell_type": "markdown",
      "metadata": {
        "id": "Vz4wYnPfwm-w"
      },
      "source": [
        "# Decision Tree"
      ]
    },
    {
      "cell_type": "code",
      "metadata": {
        "colab": {
          "base_uri": "https://localhost:8080/"
        },
        "id": "xgXUY1XGws_S",
        "outputId": "beeee5b9-8798-4d7b-a163-5fc9b85cd287"
      },
      "source": [
        "tree = DecisionTreeClassifier() # basic settings\n",
        "tree.fit(X_train, y_train)\n",
        "cm = confusion_matrix(y_true=y_test, y_pred=tree.predict(X_test))\n",
        "print(classification_report(y_true=y_test, y_pred=tree.predict(X_test)))\n",
        "print(f\"Accuracy score: {accuracy_score(y_test, tree.predict(X_test))}\")"
      ],
      "execution_count": 114,
      "outputs": [
        {
          "output_type": "stream",
          "name": "stdout",
          "text": [
            "              precision    recall  f1-score   support\n",
            "\n",
            "         0.0       0.84      0.84      0.84       969\n",
            "         1.0       0.84      0.84      0.84       969\n",
            "\n",
            "    accuracy                           0.84      1938\n",
            "   macro avg       0.84      0.84      0.84      1938\n",
            "weighted avg       0.84      0.84      0.84      1938\n",
            "\n",
            "Accuracy score: 0.8390092879256966\n"
          ]
        }
      ]
    },
    {
      "cell_type": "code",
      "metadata": {
        "colab": {
          "base_uri": "https://localhost:8080/"
        },
        "id": "9YyAJXKbws_Y",
        "outputId": "f3f2a53c-a4bf-4896-8c39-9c184f14385a"
      },
      "source": [
        "dtc_param = {\n",
        "    \"max_depth\": [None, 2, 3, 5, 10, 20],\n",
        "    \"min_samples_split\": [2],\n",
        "    \"min_samples_leaf\": [1, 5, 10, 20, 50, 100],\n",
        "    \"min_weight_fraction_leaf\": [0.],\n",
        "    \"max_features\": [None],\n",
        "    \"random_state\": [4],\n",
        "    \"max_leaf_nodes\": [None], # None = infinity or int,\n",
        "    'criterion': [\"gini\", \"entropy\"]\n",
        "}\n",
        "\n",
        "dtc_grid = cherchez(DecisionTreeClassifier(), dtc_param, \"grid\", X_train, y_train, folds=CV_FOLDS)\n",
        "dtc_grid.best_estimator_"
      ],
      "execution_count": 115,
      "outputs": [
        {
          "output_type": "stream",
          "name": "stdout",
          "text": [
            "Fitting 5 folds for each of 72 candidates, totalling 360 fits\n"
          ]
        },
        {
          "output_type": "execute_result",
          "data": {
            "text/plain": [
              "DecisionTreeClassifier(random_state=4)"
            ]
          },
          "metadata": {},
          "execution_count": 115
        }
      ]
    },
    {
      "cell_type": "code",
      "metadata": {
        "colab": {
          "base_uri": "https://localhost:8080/"
        },
        "id": "jaPHH1_Dws_p",
        "outputId": "c808a751-ab13-433c-cdd6-52b9f79fdcfc"
      },
      "source": [
        "acc = accuracy_score(y_true=y_test, y_pred=dtc_grid.predict(X_test))\n",
        "cfmatrix_rand = confusion_matrix(y_true=y_test, y_pred=dtc_grid.predict(X_test))\n",
        "print(\"**Random search results**\")\n",
        "print(\"Best training accuracy:\\t\", dtc_grid.best_score_)\n",
        "print(\"Test accuracy:\\t\", acc)"
      ],
      "execution_count": 116,
      "outputs": [
        {
          "output_type": "stream",
          "name": "stdout",
          "text": [
            "**Random search results**\n",
            "Best training accuracy:\t 0.8218901684749786\n",
            "Test accuracy:\t 0.8369453044375645\n"
          ]
        }
      ]
    },
    {
      "cell_type": "markdown",
      "source": [
        "## Heatmaps"
      ],
      "metadata": {
        "id": "3r3iGhfkHlIH"
      }
    },
    {
      "cell_type": "code",
      "source": [
        "LABELS = [\"calm\", \"alert\"]"
      ],
      "metadata": {
        "id": "fgBFRT8VJ3Cp"
      },
      "execution_count": 117,
      "outputs": []
    },
    {
      "cell_type": "code",
      "source": [
        "sns.heatmap(cm_svm_cv, annot=True, xticklabels=LABELS, yticklabels=LABELS, fmt=\"d\", cbar=False, cmap=\"YlGnBu\") # y-axis: true label, x-axis: predicted label\n",
        "plt.title(\"SVM for Movie Emotions Dataset Confusion Matrix\")\n",
        "plt.show()"
      ],
      "metadata": {
        "colab": {
          "base_uri": "https://localhost:8080/",
          "height": 281
        },
        "id": "ehWAxxUrHnRc",
        "outputId": "65cf2c9f-ef80-49e8-a1d9-91e43dcc7ec9"
      },
      "execution_count": 124,
      "outputs": [
        {
          "output_type": "display_data",
          "data": {
            "image/png": "[encoded data removed]",
            "text/plain": [
              "<Figure size 432x288 with 1 Axes>"
            ]
          },
          "metadata": {
            "needs_background": "light"
          }
        }
      ]
    },
    {
      "cell_type": "code",
      "source": [
        "labels = [\"calm\", \"alert\"]\n",
        "sns.heatmap(cm_knn_cv, annot=True, xticklabels=labels, yticklabels=labels, fmt=\"d\", cbar=False, cmap=\"afmhot_r\")\n",
        "plt.title(\"KNN for Movie Emotions Dataset Confusion Matrix\")\n",
        "plt.show()"
      ],
      "metadata": {
        "id": "eNlHrNbEJQWB",
        "colab": {
          "base_uri": "https://localhost:8080/",
          "height": 281
        },
        "outputId": "bc8b9a25-2766-4a50-b299-e056e1614046"
      },
      "execution_count": 118,
      "outputs": [
        {
          "output_type": "display_data",
          "data": {
            "image/png": "[encoded data removed]",
            "text/plain": [
              "<Figure size 432x288 with 1 Axes>"
            ]
          },
          "metadata": {
            "needs_background": "light"
          }
        }
      ]
    },
    {
      "cell_type": "code",
      "source": [
        "sns.heatmap(cfmatrix_rand, annot=True, xticklabels=labels, yticklabels=labels, fmt=\"d\", cbar=False, cmap=\"icefire\")\n",
        "plt.title(\"Decision Tree for Emotions Dataset Confusion Matrix\")\n",
        "plt.show()"
      ],
      "metadata": {
        "id": "XYjbbOYhJzVp",
        "colab": {
          "base_uri": "https://localhost:8080/",
          "height": 281
        },
        "outputId": "ef884723-58f4-47ea-c26f-a014ccfbd726"
      },
      "execution_count": 119,
      "outputs": [
        {
          "output_type": "display_data",
          "data": {
            "image/png": "[encoded data removed]",
            "text/plain": [
              "<Figure size 432x288 with 1 Axes>"
            ]
          },
          "metadata": {
            "needs_background": "light"
          }
        }
      ]
    }
  ]
}